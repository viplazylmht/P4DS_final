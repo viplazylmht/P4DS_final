{
    "nbformat": 4,
    "nbformat_minor": 0,
    "metadata": {
        "colab": {
            "name": "P4DS_Final.ipynb",
            "provenance": [],
            "collapsed_sections": [
                "wMx2l2EE8774"
            ],
            "toc_visible": true
        },
        "kernelspec": {
            "name": "python3",
            "display_name": "Python 3"
        },
        "language_info": {
            "name": "python"
        }
    },
    "cells": [
        {
            "cell_type": "markdown",
            "metadata": {},
            "source": [
                "<h1 align=\"center\">P4DS - Final Project</h1>\n",
                "<p align=\"center\">\n",
                "  <a href=\"https://github.com/viplazylmht\">\n",
                "    <img src=\"https://img.shields.io/badge/18120339-viplazylmht-brightgreen.svg\">\n",
                "  </a>\n",
                "  <a href=\"https://github.com/vohieu00\">\n",
                "    <img src=\"https://img.shields.io/badge/18120379-vohieu00-brightgreen.svg\">\n",
                "  </a>\n",
                "  <a href=\"https://github.com/viplazylmht/P4DS_final\">\n",
                "    <img src=\"https://img.shields.io/badge/Github-131313?logo=github&logoColor=white\">\n",
                "  </a>\n",
                "</p>\n",
                "<svg width=\"100\" height=\"50\" xmlns=\"http://www.w3.org/2000/svg\"></svg>\n",
                "\n",
                "<h2>Contributors & References</h2>\n",
                "\n",
                "| STT | Họ và Tên | MSSV | Git\n",
                "|:-:|:-|:-:|:-:\n",
                "| Nhóm | Hà Văn Duy | 18120339 | [viplazylmht](https://github.com/viplazylmht)\n",
                "| 20 | Võ Thị Hiếu | 18120379 | [vohieu00](https://github.com/vohieu00)\n",
                "\n",
                "Data informations:\n",
                "\n",
                "- Dataset Description: [health.data.ny.gov](https://health.data.ny.gov/Health/Hospital-Inpatient-Discharges-SPARCS-De-Identified/82xm-y6g8)  \n",
                "\n",
                "- Kaggle: [2015 de-identified NY inpatient discharge (SPARCS)](https://www.kaggle.com/jonasalmeida/2015-deidentified-ny-inpatient-discharge-sparcs)\n",
                "\n"
            ]
        },
        {
            "cell_type": "markdown",
            "metadata": {},
            "source": [
                "<!-- **Sơ nét về dữ liệu** -->\n",
                "Tập dữ liệu được công khai bởi sở Y tế bang New York, chứa thông tin chi tiết về bệnh nhân khi xuất viện nhưng không chứa thông tin xác định danh tính."
            ]
        },
        {
            "cell_type": "markdown",
            "metadata": {},
            "source": [
                "# Import thư viện"
            ]
        },
        {
            "cell_type": "code",
            "metadata": {},
            "source": [
                "import numpy as np\n",
                "import pandas as pd\n",
                "from matplotlib import pyplot as plt\n",
                "\n",
                "import warnings\n",
                "warnings.simplefilter(action='ignore')"
            ],
            "execution_count": null,
            "outputs": []
        },
        {
            "cell_type": "markdown",
            "metadata": {},
            "source": [
                "# Thu thập dữ liệu"
            ]
        },
        {
            "cell_type": "markdown",
            "metadata": {},
            "source": [
                "## Tải tập dữ liệu"
            ]
        },
        {
            "cell_type": "code",
            "metadata": {},
            "source": [
                "!gdown -q --id 1UKxIYjWw6sPuITsv6RjgNsEFpx3vMJNX\n",
                "!unzip -o 2015-deidentified-ny-inpatient-discharge-sparcs.zip"
            ],
            "execution_count": null,
            "outputs": [
                {
                    "output_type": "stream",
                    "text": [
                        "Archive:  2015-deidentified-ny-inpatient-discharge-sparcs.zip\n",
                        "  inflating: Hospital_Inpatient_Discharges__SPARCS_De-Identified___2015.csv  \n"
                    ],
                    "name": "stdout"
                }
            ]
        },
        {
            "cell_type": "code",
            "metadata": {},
            "source": [
                "!ls"
            ],
            "execution_count": null,
            "outputs": [
                {
                    "output_type": "stream",
                    "text": [
                        "2015-deidentified-ny-inpatient-discharge-sparcs.zip\t\tsample_data\n",
                        "Hospital_Inpatient_Discharges__SPARCS_De-Identified___2015.csv\n"
                    ],
                    "name": "stdout"
                }
            ]
        },
        {
            "cell_type": "markdown",
            "metadata": {},
            "source": [
                "## Đọc dữ liệu"
            ]
        },
        {
            "cell_type": "code",
            "metadata": {},
            "source": [
                "df = pd.read_csv('Hospital_Inpatient_Discharges__SPARCS_De-Identified___2015.csv')\n",
                "df.sample(5, random_state=42)"
            ],
            "execution_count": null,
            "outputs": [
                {
                    "output_type": "execute_result",
                    "data": {
                        "text/html": [
                            "<div>\n",
                            "<style scoped>\n",
                            "    .dataframe tbody tr th:only-of-type {\n",
                            "        vertical-align: middle;\n",
                            "    }\n",
                            "\n",
                            "    .dataframe tbody tr th {\n",
                            "        vertical-align: top;\n",
                            "    }\n",
                            "\n",
                            "    .dataframe thead th {\n",
                            "        text-align: right;\n",
                            "    }\n",
                            "</style>\n",
                            "<table border=\"1\" class=\"dataframe\">\n",
                            "  <thead>\n",
                            "    <tr style=\"text-align: right;\">\n",
                            "      <th></th>\n",
                            "      <th>Health Service Area</th>\n",
                            "      <th>Hospital County</th>\n",
                            "      <th>Operating Certificate Number</th>\n",
                            "      <th>Facility Id</th>\n",
                            "      <th>Facility Name</th>\n",
                            "      <th>Age Group</th>\n",
                            "      <th>Zip Code - 3 digits</th>\n",
                            "      <th>Gender</th>\n",
                            "      <th>Race</th>\n",
                            "      <th>Ethnicity</th>\n",
                            "      <th>Length of Stay</th>\n",
                            "      <th>Type of Admission</th>\n",
                            "      <th>Patient Disposition</th>\n",
                            "      <th>Discharge Year</th>\n",
                            "      <th>CCS Diagnosis Code</th>\n",
                            "      <th>CCS Diagnosis Description</th>\n",
                            "      <th>CCS Procedure Code</th>\n",
                            "      <th>CCS Procedure Description</th>\n",
                            "      <th>APR DRG Code</th>\n",
                            "      <th>APR DRG Description</th>\n",
                            "      <th>APR MDC Code</th>\n",
                            "      <th>APR MDC Description</th>\n",
                            "      <th>APR Severity of Illness Code</th>\n",
                            "      <th>APR Severity of Illness Description</th>\n",
                            "      <th>APR Risk of Mortality</th>\n",
                            "      <th>APR Medical Surgical Description</th>\n",
                            "      <th>Payment Typology 1</th>\n",
                            "      <th>Payment Typology 2</th>\n",
                            "      <th>Payment Typology 3</th>\n",
                            "      <th>Attending Provider License Number</th>\n",
                            "      <th>Operating Provider License Number</th>\n",
                            "      <th>Other Provider License Number</th>\n",
                            "      <th>Birth Weight</th>\n",
                            "      <th>Abortion Edit Indicator</th>\n",
                            "      <th>Emergency Department Indicator</th>\n",
                            "      <th>Total Charges</th>\n",
                            "      <th>Total Costs</th>\n",
                            "    </tr>\n",
                            "  </thead>\n",
                            "  <tbody>\n",
                            "    <tr>\n",
                            "      <th>653914</th>\n",
                            "      <td>Capital/Adiron</td>\n",
                            "      <td>Warren</td>\n",
                            "      <td>5601000.0</td>\n",
                            "      <td>1005.0</td>\n",
                            "      <td>Glens Falls Hospital</td>\n",
                            "      <td>70 or Older</td>\n",
                            "      <td>128</td>\n",
                            "      <td>M</td>\n",
                            "      <td>White</td>\n",
                            "      <td>Not Span/Hispanic</td>\n",
                            "      <td>6</td>\n",
                            "      <td>Emergency</td>\n",
                            "      <td>Skilled Nursing Home</td>\n",
                            "      <td>2015</td>\n",
                            "      <td>123</td>\n",
                            "      <td>Influenza</td>\n",
                            "      <td>0</td>\n",
                            "      <td>NO PROC</td>\n",
                            "      <td>139</td>\n",
                            "      <td>Other pneumonia</td>\n",
                            "      <td>4</td>\n",
                            "      <td>Diseases and Disorders of the Respiratory System</td>\n",
                            "      <td>2</td>\n",
                            "      <td>Moderate</td>\n",
                            "      <td>Moderate</td>\n",
                            "      <td>Medical</td>\n",
                            "      <td>Medicare</td>\n",
                            "      <td>NaN</td>\n",
                            "      <td>NaN</td>\n",
                            "      <td>144621.0</td>\n",
                            "      <td>NaN</td>\n",
                            "      <td>NaN</td>\n",
                            "      <td>0</td>\n",
                            "      <td>N</td>\n",
                            "      <td>Y</td>\n",
                            "      <td>$28022.46</td>\n",
                            "      <td>$11078.51</td>\n",
                            "    </tr>\n",
                            "    <tr>\n",
                            "      <th>104569</th>\n",
                            "      <td>Western NY</td>\n",
                            "      <td>Erie</td>\n",
                            "      <td>1401013.0</td>\n",
                            "      <td>218.0</td>\n",
                            "      <td>Sisters of Charity Hospital</td>\n",
                            "      <td>50 to 69</td>\n",
                            "      <td>142</td>\n",
                            "      <td>F</td>\n",
                            "      <td>White</td>\n",
                            "      <td>Not Span/Hispanic</td>\n",
                            "      <td>4</td>\n",
                            "      <td>Elective</td>\n",
                            "      <td>Home or Self Care</td>\n",
                            "      <td>2015</td>\n",
                            "      <td>146</td>\n",
                            "      <td>Diverticulosis and diverticulitis</td>\n",
                            "      <td>78</td>\n",
                            "      <td>COLORECTAL RESECTION</td>\n",
                            "      <td>221</td>\n",
                            "      <td>Major small &amp; large bowel procedures</td>\n",
                            "      <td>6</td>\n",
                            "      <td>Diseases and Disorders of the Digestive System</td>\n",
                            "      <td>2</td>\n",
                            "      <td>Moderate</td>\n",
                            "      <td>Minor</td>\n",
                            "      <td>Surgical</td>\n",
                            "      <td>Private Health Insurance</td>\n",
                            "      <td>NaN</td>\n",
                            "      <td>NaN</td>\n",
                            "      <td>216653.0</td>\n",
                            "      <td>216653.0</td>\n",
                            "      <td>NaN</td>\n",
                            "      <td>0</td>\n",
                            "      <td>N</td>\n",
                            "      <td>N</td>\n",
                            "      <td>$27504.66</td>\n",
                            "      <td>$14155.67</td>\n",
                            "    </tr>\n",
                            "    <tr>\n",
                            "      <th>1129243</th>\n",
                            "      <td>New York City</td>\n",
                            "      <td>Kings</td>\n",
                            "      <td>7001003.0</td>\n",
                            "      <td>1288.0</td>\n",
                            "      <td>Brooklyn Hospital Center - Downtown Campus</td>\n",
                            "      <td>70 or Older</td>\n",
                            "      <td>112</td>\n",
                            "      <td>M</td>\n",
                            "      <td>Black/African American</td>\n",
                            "      <td>Unknown</td>\n",
                            "      <td>6</td>\n",
                            "      <td>Emergency</td>\n",
                            "      <td>Home w/ Home Health Services</td>\n",
                            "      <td>2015</td>\n",
                            "      <td>112</td>\n",
                            "      <td>Transient cerebral ischemia</td>\n",
                            "      <td>193</td>\n",
                            "      <td>DX ULTRASOUND HEART</td>\n",
                            "      <td>47</td>\n",
                            "      <td>Transient ischemia</td>\n",
                            "      <td>1</td>\n",
                            "      <td>Diseases and Disorders of the Nervous System</td>\n",
                            "      <td>2</td>\n",
                            "      <td>Moderate</td>\n",
                            "      <td>Moderate</td>\n",
                            "      <td>Medical</td>\n",
                            "      <td>Medicare</td>\n",
                            "      <td>Medicare</td>\n",
                            "      <td>Medicaid</td>\n",
                            "      <td>214410.0</td>\n",
                            "      <td>233966.0</td>\n",
                            "      <td>NaN</td>\n",
                            "      <td>0</td>\n",
                            "      <td>N</td>\n",
                            "      <td>Y</td>\n",
                            "      <td>$64164.39</td>\n",
                            "      <td>$20277.91</td>\n",
                            "    </tr>\n",
                            "    <tr>\n",
                            "      <th>693749</th>\n",
                            "      <td>Hudson Valley</td>\n",
                            "      <td>Dutchess</td>\n",
                            "      <td>1302001.0</td>\n",
                            "      <td>181.0</td>\n",
                            "      <td>Vassar Brothers Medical Center</td>\n",
                            "      <td>50 to 69</td>\n",
                            "      <td>125</td>\n",
                            "      <td>M</td>\n",
                            "      <td>White</td>\n",
                            "      <td>Not Span/Hispanic</td>\n",
                            "      <td>4</td>\n",
                            "      <td>Emergency</td>\n",
                            "      <td>Home w/ Home Health Services</td>\n",
                            "      <td>2015</td>\n",
                            "      <td>55</td>\n",
                            "      <td>Fluid and electrolyte disorders</td>\n",
                            "      <td>58</td>\n",
                            "      <td>HEMODIALYSIS</td>\n",
                            "      <td>425</td>\n",
                            "      <td>Electrolyte disorders except hypovolemia related</td>\n",
                            "      <td>10</td>\n",
                            "      <td>Endocrine, Nutritional and Metabolic Diseases ...</td>\n",
                            "      <td>3</td>\n",
                            "      <td>Major</td>\n",
                            "      <td>Moderate</td>\n",
                            "      <td>Medical</td>\n",
                            "      <td>Medicare</td>\n",
                            "      <td>Federal/State/Local/VA</td>\n",
                            "      <td>NaN</td>\n",
                            "      <td>220486.0</td>\n",
                            "      <td>220486.0</td>\n",
                            "      <td>NaN</td>\n",
                            "      <td>0</td>\n",
                            "      <td>N</td>\n",
                            "      <td>Y</td>\n",
                            "      <td>$33460.18</td>\n",
                            "      <td>$8808.44</td>\n",
                            "    </tr>\n",
                            "    <tr>\n",
                            "      <th>83332</th>\n",
                            "      <td>Western NY</td>\n",
                            "      <td>Erie</td>\n",
                            "      <td>1401008.0</td>\n",
                            "      <td>213.0</td>\n",
                            "      <td>Mercy Hospital of Buffalo</td>\n",
                            "      <td>30 to 49</td>\n",
                            "      <td>142</td>\n",
                            "      <td>M</td>\n",
                            "      <td>White</td>\n",
                            "      <td>Not Span/Hispanic</td>\n",
                            "      <td>2</td>\n",
                            "      <td>Emergency</td>\n",
                            "      <td>Left Against Medical Advice</td>\n",
                            "      <td>2015</td>\n",
                            "      <td>152</td>\n",
                            "      <td>Pancreatic disorders (not diabetes)</td>\n",
                            "      <td>0</td>\n",
                            "      <td>NO PROC</td>\n",
                            "      <td>282</td>\n",
                            "      <td>Disorders of pancreas except malignancy</td>\n",
                            "      <td>7</td>\n",
                            "      <td>Diseases and Disorders of the Hepatobiliary Sy...</td>\n",
                            "      <td>2</td>\n",
                            "      <td>Moderate</td>\n",
                            "      <td>Moderate</td>\n",
                            "      <td>Medical</td>\n",
                            "      <td>Medicaid</td>\n",
                            "      <td>Medicaid</td>\n",
                            "      <td>NaN</td>\n",
                            "      <td>206544.0</td>\n",
                            "      <td>NaN</td>\n",
                            "      <td>NaN</td>\n",
                            "      <td>0</td>\n",
                            "      <td>N</td>\n",
                            "      <td>Y</td>\n",
                            "      <td>$7953.86</td>\n",
                            "      <td>$3361.40</td>\n",
                            "    </tr>\n",
                            "  </tbody>\n",
                            "</table>\n",
                            "</div>"
                        ],
                        "text/plain": [
                            "        Health Service Area Hospital County  ...  Total Charges  Total Costs\n",
                            "653914       Capital/Adiron          Warren  ...      $28022.46    $11078.51\n",
                            "104569           Western NY            Erie  ...      $27504.66    $14155.67\n",
                            "1129243       New York City           Kings  ...      $64164.39    $20277.91\n",
                            "693749        Hudson Valley        Dutchess  ...      $33460.18     $8808.44\n",
                            "83332            Western NY            Erie  ...       $7953.86     $3361.40\n",
                            "\n",
                            "[5 rows x 37 columns]"
                        ]
                    },
                    "metadata": {
                        "tags": []
                    },
                    "execution_count": null
                }
            ]
        },
        {
            "cell_type": "markdown",
            "metadata": {},
            "source": [
                "# Khám phá dữ liệu"
            ]
        },
        {
            "cell_type": "code",
            "metadata": {},
            "source": [
                "df.shape"
            ],
            "execution_count": null,
            "outputs": [
                {
                    "output_type": "execute_result",
                    "data": {
                        "text/plain": [
                            "(2346760, 37)"
                        ]
                    },
                    "metadata": {
                        "tags": []
                    },
                    "execution_count": null
                }
            ]
        },
        {
            "cell_type": "markdown",
            "metadata": {},
            "source": [
                "Tập dữ liệu có 2 346 760 mẫu với 37 thuộc tính, trong đó có 3 thuộc tính không có trong bộ dữ liệu gốc được  đó là Attending Provider License Number, Operating Provider License Number và Other Provider License Number.  "
            ]
        },
        {
            "cell_type": "markdown",
            "metadata": {},
            "source": [
                "Trong đó, mỗi dòng dữ liệu là một bản ghi của một trường hợp bệnh nhân nhập và nằm viện. Các bản ghi này đã được loại bỏ các thông tin cá nhân và thời điểm nhấp viện nhằm đảm bảo quyền riêng tư."
            ]
        },
        {
            "cell_type": "markdown",
            "metadata": {},
            "source": [
                "## Chi tiết thuộc tính"
            ]
        },
        {
            "cell_type": "markdown",
            "metadata": {},
            "source": [
                "| Thuộc tính | Mô tả\n",
                "|:-|:-\n",
                "| Health Service Area | vị trí bệnh viện (Capital / Adirondack, Central NY, Finger Lakes, Hudson Valley,...)\n",
                "| Hospital County |  tên quận nơi đặt bệnh viện. \n",
                "|Facility Id | ID cơ sở y tế\n",
                "|Facility Name | tên cơ sở y tế\n",
                "|Age Group | nhóm tuổi của bệnh nhân, được tính tại thời điểm xuất viện( $\\leq$ 17, 18-29, 30-49, 50-69 và $\\geq$ 70)\n",
                "|Zip Code - 3 digits | 3 chữ số đầu tiên của mã bưu chính của bệnh nhân\n",
                "|Gender | giới tính\n",
                "|Race | chủng tộc (Black/African, American, ...)\n",
                "|Ethnicity  | dân tộc \n",
                "|Length of Stay  | số ngày từ ngày nhập viện-xuất viện, tối đa 120 ngày\n",
                "|Type of Admission  | hình thức nhập viện (tự chọn, cấp cứu, ...)\n",
                "|Patient Disposition |  tình trạng bệnh nhân khi xuất viện\n",
                "|Discharge Year  | năm xuất viện  \n",
                "|CCS Diagnosis Code   |  mã chẩn đoán phân loại lâm sàn CCS \n",
                "|CCS Diagnosis Description  | mô tả danh mục chẩn đoán lâm sàn CCS \n",
                "|CCS Procedure Code  |  mã thủ tục CCS  \n",
                "|CCS Procedure Description  | mô tả thủ tục CCS \n",
                "|APR DRG Code | mã APR DRG (all patient refinded diagnosis related group)\n",
                "|APR DRG Description  | mô tả mã phân loại APR DRG \n",
                "|APR MDC Code | mã phân loại APR MDC (all patient refind major diagnostic category)\n",
                "|APR MDC Description  |  mô tả phân loại APR MDC\n",
                "|APR Severity of Illness Code | mã mức độ nghiêm trọng của bệnh tật chuẩn APR-DRG \n",
                "|APR Severity of Illness Description | mô tả mức độ nghiêm trọng của bệnh \n",
                "|APR Risk of Mortality   |  nguy cơ tử vong (nhỏ :1, vừa 2: lớn:3 , khẩn cấp:4)\n",
                "|APR Medical Surgical Description | mô tả APR-DRG về phẫu thuật, y tế,...\n",
                "|Payment Typology x  |  hình thức thanh toán x\n",
                "|Operating Certificate Number| giấy phép hoạt động của cơ sở y tế\n",
                "|Attending Provider License Number | giấy phép tham gia\n",
                "|Operating Provider License Number  | giấy phép vận hành\n",
                "|Other Provider License Number | một số giấy phép khác\n",
                "|Birth Weight  |  trọng lượng lúc mới sinh, tính bằng gam\n",
                "|Abortion Edit Indicator   | cho biết lúc xuất viện có dấu hiệu thực hiện phá thai hay không\n",
                "|Emergency Department Indicator  | chỉ báo khoa cấp cứu (nếu có mã của bộ phận cấp cứu 045X thì sẽ đặt là Y, ngược lại N)\n",
                "|Total Charges  | tổng viện phí \n",
                "|Total Costs  | tổng chi phí|\n"
            ]
        },
        {
            "cell_type": "markdown",
            "metadata": {},
            "source": [
                "**Chú thích**  \n",
                "  - [Column descriptions](https://health.data.ny.gov/Health/Hospital-Inpatient-Discharges-SPARCS-De-Identified/82xm-y6g8)\n",
                "  - [APR DRG](https://www.hcup-us.ahrq.gov/db/nation/nis/APR-DRGsV20MethodologyOverviewandBibliography.pdf)\n",
                "  - [APR MDC](https://en.wikipedia.org/wiki/Major_Diagnostic_Category)\n",
                "\n",
                "    *Đối với các vụ phá thai, hồ sơ sẽ để trống nhiều chi tiết như khu vực, cơ sở thực hiện, ...*"
            ]
        },
        {
            "cell_type": "markdown",
            "metadata": {},
            "source": [
                "## Dữ liệu khuyết"
            ]
        },
        {
            "cell_type": "code",
            "metadata": {},
            "source": [
                "df.isna().sum()"
            ],
            "execution_count": null,
            "outputs": [
                {
                    "output_type": "execute_result",
                    "data": {
                        "text/plain": [
                            "Health Service Area                       2911\n",
                            "Hospital County                           2911\n",
                            "Operating Certificate Number              2911\n",
                            "Facility Id                               2911\n",
                            "Facility Name                                0\n",
                            "Age Group                                    0\n",
                            "Zip Code - 3 digits                       4427\n",
                            "Gender                                       0\n",
                            "Race                                         0\n",
                            "Ethnicity                                    0\n",
                            "Length of Stay                               0\n",
                            "Type of Admission                            0\n",
                            "Patient Disposition                          0\n",
                            "Discharge Year                               0\n",
                            "CCS Diagnosis Code                           0\n",
                            "CCS Diagnosis Description                    0\n",
                            "CCS Procedure Code                           0\n",
                            "CCS Procedure Description                    0\n",
                            "APR DRG Code                                 0\n",
                            "APR DRG Description                          0\n",
                            "APR MDC Code                                 0\n",
                            "APR MDC Description                          0\n",
                            "APR Severity of Illness Code                 0\n",
                            "APR Severity of Illness Description        112\n",
                            "APR Risk of Mortality                      112\n",
                            "APR Medical Surgical Description             0\n",
                            "Payment Typology 1                           0\n",
                            "Payment Typology 2                      762346\n",
                            "Payment Typology 3                     1645570\n",
                            "Attending Provider License Number         2911\n",
                            "Operating Provider License Number       612848\n",
                            "Other Provider License Number          2275424\n",
                            "Birth Weight                                 0\n",
                            "Abortion Edit Indicator                      0\n",
                            "Emergency Department Indicator               0\n",
                            "Total Charges                                0\n",
                            "Total Costs                                  0\n",
                            "dtype: int64"
                        ]
                    },
                    "metadata": {
                        "tags": []
                    },
                    "execution_count": null
                }
            ]
        },
        {
            "cell_type": "markdown",
            "metadata": {},
            "source": [
                "Dữ liệu bị khuyết ở các cột:  \n",
                "- Health Service Area\n",
                "- Hospital County\n",
                "- Operating Certificate Number\n",
                "- Facility Id, Zip Code - 3 digits\n",
                "- APR Severity of Illness Description\n",
                "- APR Risk of Mortality\n",
                "- Payment Typology 2\n",
                "- Payment Typology 3\n",
                "- Attending Provider License Number\n",
                "- Operating Provider License Number\n",
                "- Other Provider License Number\n"
            ]
        },
        {
            "cell_type": "markdown",
            "metadata": {},
            "source": [
                "## Kiểu dữ liệu mỗi cột"
            ]
        },
        {
            "cell_type": "code",
            "metadata": {},
            "source": [
                "df.info()"
            ],
            "execution_count": null,
            "outputs": [
                {
                    "output_type": "stream",
                    "text": [
                        "<class 'pandas.core.frame.DataFrame'>\n",
                        "RangeIndex: 2346760 entries, 0 to 2346759\n",
                        "Data columns (total 37 columns):\n",
                        " #   Column                               Dtype  \n",
                        "---  ------                               -----  \n",
                        " 0   Health Service Area                  object \n",
                        " 1   Hospital County                      object \n",
                        " 2   Operating Certificate Number         float64\n",
                        " 3   Facility Id                          float64\n",
                        " 4   Facility Name                        object \n",
                        " 5   Age Group                            object \n",
                        " 6   Zip Code - 3 digits                  object \n",
                        " 7   Gender                               object \n",
                        " 8   Race                                 object \n",
                        " 9   Ethnicity                            object \n",
                        " 10  Length of Stay                       object \n",
                        " 11  Type of Admission                    object \n",
                        " 12  Patient Disposition                  object \n",
                        " 13  Discharge Year                       int64  \n",
                        " 14  CCS Diagnosis Code                   int64  \n",
                        " 15  CCS Diagnosis Description            object \n",
                        " 16  CCS Procedure Code                   int64  \n",
                        " 17  CCS Procedure Description            object \n",
                        " 18  APR DRG Code                         int64  \n",
                        " 19  APR DRG Description                  object \n",
                        " 20  APR MDC Code                         int64  \n",
                        " 21  APR MDC Description                  object \n",
                        " 22  APR Severity of Illness Code         int64  \n",
                        " 23  APR Severity of Illness Description  object \n",
                        " 24  APR Risk of Mortality                object \n",
                        " 25  APR Medical Surgical Description     object \n",
                        " 26  Payment Typology 1                   object \n",
                        " 27  Payment Typology 2                   object \n",
                        " 28  Payment Typology 3                   object \n",
                        " 29  Attending Provider License Number    float64\n",
                        " 30  Operating Provider License Number    float64\n",
                        " 31  Other Provider License Number        float64\n",
                        " 32  Birth Weight                         int64  \n",
                        " 33  Abortion Edit Indicator              object \n",
                        " 34  Emergency Department Indicator       object \n",
                        " 35  Total Charges                        object \n",
                        " 36  Total Costs                          object \n",
                        "dtypes: float64(5), int64(7), object(25)\n",
                        "memory usage: 662.5+ MB\n"
                    ],
                    "name": "stdout"
                }
            ]
        },
        {
            "cell_type": "markdown",
            "metadata": {},
            "source": [
                "Xem thử các thuộc tính hiện tại đang là kiểu dữ liệu số. "
            ]
        },
        {
            "cell_type": "code",
            "metadata": {},
            "source": [
                "df.select_dtypes(exclude='object').sample(5, random_state=42)"
            ],
            "execution_count": null,
            "outputs": [
                {
                    "output_type": "execute_result",
                    "data": {
                        "text/html": [
                            "<div>\n",
                            "<style scoped>\n",
                            "    .dataframe tbody tr th:only-of-type {\n",
                            "        vertical-align: middle;\n",
                            "    }\n",
                            "\n",
                            "    .dataframe tbody tr th {\n",
                            "        vertical-align: top;\n",
                            "    }\n",
                            "\n",
                            "    .dataframe thead th {\n",
                            "        text-align: right;\n",
                            "    }\n",
                            "</style>\n",
                            "<table border=\"1\" class=\"dataframe\">\n",
                            "  <thead>\n",
                            "    <tr style=\"text-align: right;\">\n",
                            "      <th></th>\n",
                            "      <th>Operating Certificate Number</th>\n",
                            "      <th>Facility Id</th>\n",
                            "      <th>Discharge Year</th>\n",
                            "      <th>CCS Diagnosis Code</th>\n",
                            "      <th>CCS Procedure Code</th>\n",
                            "      <th>APR DRG Code</th>\n",
                            "      <th>APR MDC Code</th>\n",
                            "      <th>APR Severity of Illness Code</th>\n",
                            "      <th>Attending Provider License Number</th>\n",
                            "      <th>Operating Provider License Number</th>\n",
                            "      <th>Other Provider License Number</th>\n",
                            "      <th>Birth Weight</th>\n",
                            "    </tr>\n",
                            "  </thead>\n",
                            "  <tbody>\n",
                            "    <tr>\n",
                            "      <th>653914</th>\n",
                            "      <td>5601000.0</td>\n",
                            "      <td>1005.0</td>\n",
                            "      <td>2015</td>\n",
                            "      <td>123</td>\n",
                            "      <td>0</td>\n",
                            "      <td>139</td>\n",
                            "      <td>4</td>\n",
                            "      <td>2</td>\n",
                            "      <td>144621.0</td>\n",
                            "      <td>NaN</td>\n",
                            "      <td>NaN</td>\n",
                            "      <td>0</td>\n",
                            "    </tr>\n",
                            "    <tr>\n",
                            "      <th>104569</th>\n",
                            "      <td>1401013.0</td>\n",
                            "      <td>218.0</td>\n",
                            "      <td>2015</td>\n",
                            "      <td>146</td>\n",
                            "      <td>78</td>\n",
                            "      <td>221</td>\n",
                            "      <td>6</td>\n",
                            "      <td>2</td>\n",
                            "      <td>216653.0</td>\n",
                            "      <td>216653.0</td>\n",
                            "      <td>NaN</td>\n",
                            "      <td>0</td>\n",
                            "    </tr>\n",
                            "    <tr>\n",
                            "      <th>1129243</th>\n",
                            "      <td>7001003.0</td>\n",
                            "      <td>1288.0</td>\n",
                            "      <td>2015</td>\n",
                            "      <td>112</td>\n",
                            "      <td>193</td>\n",
                            "      <td>47</td>\n",
                            "      <td>1</td>\n",
                            "      <td>2</td>\n",
                            "      <td>214410.0</td>\n",
                            "      <td>233966.0</td>\n",
                            "      <td>NaN</td>\n",
                            "      <td>0</td>\n",
                            "    </tr>\n",
                            "    <tr>\n",
                            "      <th>693749</th>\n",
                            "      <td>1302001.0</td>\n",
                            "      <td>181.0</td>\n",
                            "      <td>2015</td>\n",
                            "      <td>55</td>\n",
                            "      <td>58</td>\n",
                            "      <td>425</td>\n",
                            "      <td>10</td>\n",
                            "      <td>3</td>\n",
                            "      <td>220486.0</td>\n",
                            "      <td>220486.0</td>\n",
                            "      <td>NaN</td>\n",
                            "      <td>0</td>\n",
                            "    </tr>\n",
                            "    <tr>\n",
                            "      <th>83332</th>\n",
                            "      <td>1401008.0</td>\n",
                            "      <td>213.0</td>\n",
                            "      <td>2015</td>\n",
                            "      <td>152</td>\n",
                            "      <td>0</td>\n",
                            "      <td>282</td>\n",
                            "      <td>7</td>\n",
                            "      <td>2</td>\n",
                            "      <td>206544.0</td>\n",
                            "      <td>NaN</td>\n",
                            "      <td>NaN</td>\n",
                            "      <td>0</td>\n",
                            "    </tr>\n",
                            "  </tbody>\n",
                            "</table>\n",
                            "</div>"
                        ],
                        "text/plain": [
                            "         Operating Certificate Number  ...  Birth Weight\n",
                            "653914                      5601000.0  ...             0\n",
                            "104569                      1401013.0  ...             0\n",
                            "1129243                     7001003.0  ...             0\n",
                            "693749                      1302001.0  ...             0\n",
                            "83332                       1401008.0  ...             0\n",
                            "\n",
                            "[5 rows x 12 columns]"
                        ]
                    },
                    "metadata": {
                        "tags": []
                    },
                    "execution_count": null
                }
            ]
        },
        {
            "cell_type": "markdown",
            "metadata": {},
            "source": [
                "Xem thử các thuộc tính hiện tại đang có kiểu dữ liệu không phải số."
            ]
        },
        {
            "cell_type": "code",
            "metadata": {},
            "source": [
                "df.select_dtypes(include='object').sample(3, random_state=42)"
            ],
            "execution_count": null,
            "outputs": [
                {
                    "output_type": "execute_result",
                    "data": {
                        "text/html": [
                            "<div>\n",
                            "<style scoped>\n",
                            "    .dataframe tbody tr th:only-of-type {\n",
                            "        vertical-align: middle;\n",
                            "    }\n",
                            "\n",
                            "    .dataframe tbody tr th {\n",
                            "        vertical-align: top;\n",
                            "    }\n",
                            "\n",
                            "    .dataframe thead th {\n",
                            "        text-align: right;\n",
                            "    }\n",
                            "</style>\n",
                            "<table border=\"1\" class=\"dataframe\">\n",
                            "  <thead>\n",
                            "    <tr style=\"text-align: right;\">\n",
                            "      <th></th>\n",
                            "      <th>Health Service Area</th>\n",
                            "      <th>Hospital County</th>\n",
                            "      <th>Facility Name</th>\n",
                            "      <th>Age Group</th>\n",
                            "      <th>Zip Code - 3 digits</th>\n",
                            "      <th>Gender</th>\n",
                            "      <th>Race</th>\n",
                            "      <th>Ethnicity</th>\n",
                            "      <th>Length of Stay</th>\n",
                            "      <th>Type of Admission</th>\n",
                            "      <th>Patient Disposition</th>\n",
                            "      <th>CCS Diagnosis Description</th>\n",
                            "      <th>CCS Procedure Description</th>\n",
                            "      <th>APR DRG Description</th>\n",
                            "      <th>APR MDC Description</th>\n",
                            "      <th>APR Severity of Illness Description</th>\n",
                            "      <th>APR Risk of Mortality</th>\n",
                            "      <th>APR Medical Surgical Description</th>\n",
                            "      <th>Payment Typology 1</th>\n",
                            "      <th>Payment Typology 2</th>\n",
                            "      <th>Payment Typology 3</th>\n",
                            "      <th>Abortion Edit Indicator</th>\n",
                            "      <th>Emergency Department Indicator</th>\n",
                            "      <th>Total Charges</th>\n",
                            "      <th>Total Costs</th>\n",
                            "    </tr>\n",
                            "  </thead>\n",
                            "  <tbody>\n",
                            "    <tr>\n",
                            "      <th>653914</th>\n",
                            "      <td>Capital/Adiron</td>\n",
                            "      <td>Warren</td>\n",
                            "      <td>Glens Falls Hospital</td>\n",
                            "      <td>70 or Older</td>\n",
                            "      <td>128</td>\n",
                            "      <td>M</td>\n",
                            "      <td>White</td>\n",
                            "      <td>Not Span/Hispanic</td>\n",
                            "      <td>6</td>\n",
                            "      <td>Emergency</td>\n",
                            "      <td>Skilled Nursing Home</td>\n",
                            "      <td>Influenza</td>\n",
                            "      <td>NO PROC</td>\n",
                            "      <td>Other pneumonia</td>\n",
                            "      <td>Diseases and Disorders of the Respiratory System</td>\n",
                            "      <td>Moderate</td>\n",
                            "      <td>Moderate</td>\n",
                            "      <td>Medical</td>\n",
                            "      <td>Medicare</td>\n",
                            "      <td>NaN</td>\n",
                            "      <td>NaN</td>\n",
                            "      <td>N</td>\n",
                            "      <td>Y</td>\n",
                            "      <td>$28022.46</td>\n",
                            "      <td>$11078.51</td>\n",
                            "    </tr>\n",
                            "    <tr>\n",
                            "      <th>104569</th>\n",
                            "      <td>Western NY</td>\n",
                            "      <td>Erie</td>\n",
                            "      <td>Sisters of Charity Hospital</td>\n",
                            "      <td>50 to 69</td>\n",
                            "      <td>142</td>\n",
                            "      <td>F</td>\n",
                            "      <td>White</td>\n",
                            "      <td>Not Span/Hispanic</td>\n",
                            "      <td>4</td>\n",
                            "      <td>Elective</td>\n",
                            "      <td>Home or Self Care</td>\n",
                            "      <td>Diverticulosis and diverticulitis</td>\n",
                            "      <td>COLORECTAL RESECTION</td>\n",
                            "      <td>Major small &amp; large bowel procedures</td>\n",
                            "      <td>Diseases and Disorders of the Digestive System</td>\n",
                            "      <td>Moderate</td>\n",
                            "      <td>Minor</td>\n",
                            "      <td>Surgical</td>\n",
                            "      <td>Private Health Insurance</td>\n",
                            "      <td>NaN</td>\n",
                            "      <td>NaN</td>\n",
                            "      <td>N</td>\n",
                            "      <td>N</td>\n",
                            "      <td>$27504.66</td>\n",
                            "      <td>$14155.67</td>\n",
                            "    </tr>\n",
                            "    <tr>\n",
                            "      <th>1129243</th>\n",
                            "      <td>New York City</td>\n",
                            "      <td>Kings</td>\n",
                            "      <td>Brooklyn Hospital Center - Downtown Campus</td>\n",
                            "      <td>70 or Older</td>\n",
                            "      <td>112</td>\n",
                            "      <td>M</td>\n",
                            "      <td>Black/African American</td>\n",
                            "      <td>Unknown</td>\n",
                            "      <td>6</td>\n",
                            "      <td>Emergency</td>\n",
                            "      <td>Home w/ Home Health Services</td>\n",
                            "      <td>Transient cerebral ischemia</td>\n",
                            "      <td>DX ULTRASOUND HEART</td>\n",
                            "      <td>Transient ischemia</td>\n",
                            "      <td>Diseases and Disorders of the Nervous System</td>\n",
                            "      <td>Moderate</td>\n",
                            "      <td>Moderate</td>\n",
                            "      <td>Medical</td>\n",
                            "      <td>Medicare</td>\n",
                            "      <td>Medicare</td>\n",
                            "      <td>Medicaid</td>\n",
                            "      <td>N</td>\n",
                            "      <td>Y</td>\n",
                            "      <td>$64164.39</td>\n",
                            "      <td>$20277.91</td>\n",
                            "    </tr>\n",
                            "  </tbody>\n",
                            "</table>\n",
                            "</div>"
                        ],
                        "text/plain": [
                            "        Health Service Area Hospital County  ... Total Charges Total Costs\n",
                            "653914       Capital/Adiron          Warren  ...     $28022.46   $11078.51\n",
                            "104569           Western NY            Erie  ...     $27504.66   $14155.67\n",
                            "1129243       New York City           Kings  ...     $64164.39   $20277.91\n",
                            "\n",
                            "[3 rows x 25 columns]"
                        ]
                    },
                    "metadata": {
                        "tags": []
                    },
                    "execution_count": null
                }
            ]
        },
        {
            "cell_type": "markdown",
            "metadata": {},
            "source": [
                "Quan sát sơ phân phối dữ liệu và từ mô tả dữ liệu, ta thấy dữ liệu đọc được đang bị sai kiểu dữ liệu ở một vài nơi:  \n",
                "\n",
                "- Cột Total Charges, Total Costs và Length of Stay nên có kiểu dữ liệu là numeric thay vì object.  \n",
                "- Các cột Operating Certificate Number, Facility Id, CCS Diagnosis Code, CCS Procedure Code, APR DRG Code, APR MDC Code, APR Severity of Illness Code là dữ liệu phân loại, cho nên cũng nên được chuyển sang biểu diễn dưới dạng object.\n",
                "- Cột Attending Provider License Number, Operating Provider License Number, Other Provider License Number nên có kiểu dữ liệu là object.  "
            ]
        },
        {
            "cell_type": "markdown",
            "metadata": {},
            "source": [
                "# Chọn dữ liệu"
            ]
        },
        {
            "cell_type": "markdown",
            "metadata": {},
            "source": [
                "## Chuyển đổi kiểu dữ liệu phù hợp"
            ]
        },
        {
            "cell_type": "markdown",
            "metadata": {},
            "source": [
                "Đối với 2 cột `Total Charges` và `Total Costs`, trước khi chuyển nó về kiểu dữ liệu số, ta sẽ loại bỏ kí tự `$` đại diện cho đơn vị tiền tệ ở trước đi.  "
            ]
        },
        {
            "cell_type": "code",
            "metadata": {},
            "source": [
                "def convert_to_numeric(Sr):\n",
                "    Sr = Sr.map(lambda x:x[1:])\n",
                "    Sr = pd.to_numeric(Sr)\n",
                "    return Sr\n",
                "\n",
                "df['Total Charges'] = convert_to_numeric(df['Total Charges'])\n",
                "df['Total Costs'] = convert_to_numeric(df['Total Costs'])"
            ],
            "execution_count": null,
            "outputs": []
        },
        {
            "cell_type": "markdown",
            "metadata": {},
            "source": [
                "Theo như mô tả của cột `Length of Stay`, những người nhập viện lớn hơn 120 ngày sẽ được kí hiệu là `120 +`, tuy nhiên để tiện cho việc chuyển đổi về cột dữ liệu số, ta sẽ coi như lớn hơn 120 ngày là 120 ngày."
            ]
        },
        {
            "cell_type": "code",
            "metadata": {},
            "source": [
                "lof_fixed = df['Length of Stay'].replace('120 +', '120')\n",
                "df['Length of Stay'] = lof_fixed.astype('int')"
            ],
            "execution_count": null,
            "outputs": []
        },
        {
            "cell_type": "markdown",
            "metadata": {},
            "source": [
                "Đối với các cột định danh còn lại, ta chỉ việc chuyển về dạng chuỗi."
            ]
        },
        {
            "cell_type": "code",
            "metadata": {},
            "source": [
                "cate_list = ['Operating Certificate Number', 'Facility Id', 'CCS Diagnosis Code', 'CCS Procedure Code', 'APR DRG Code', 'APR MDC Code', 'APR Severity of Illness Code', 'Attending Provider License Number', 'Operating Provider License Number', 'Other Provider License Number']\n",
                "cate_dict = {col:'str' for col in cate_list}\n",
                "\n",
                "df = df.astype(cate_dict)"
            ],
            "execution_count": null,
            "outputs": []
        },
        {
            "cell_type": "code",
            "metadata": {},
            "source": [
                "df.dtypes "
            ],
            "execution_count": null,
            "outputs": [
                {
                    "output_type": "execute_result",
                    "data": {
                        "text/plain": [
                            "Health Service Area                     object\n",
                            "Hospital County                         object\n",
                            "Operating Certificate Number            object\n",
                            "Facility Id                             object\n",
                            "Facility Name                           object\n",
                            "Age Group                               object\n",
                            "Zip Code - 3 digits                     object\n",
                            "Gender                                  object\n",
                            "Race                                    object\n",
                            "Ethnicity                               object\n",
                            "Length of Stay                           int64\n",
                            "Type of Admission                       object\n",
                            "Patient Disposition                     object\n",
                            "Discharge Year                           int64\n",
                            "CCS Diagnosis Code                      object\n",
                            "CCS Diagnosis Description               object\n",
                            "CCS Procedure Code                      object\n",
                            "CCS Procedure Description               object\n",
                            "APR DRG Code                            object\n",
                            "APR DRG Description                     object\n",
                            "APR MDC Code                            object\n",
                            "APR MDC Description                     object\n",
                            "APR Severity of Illness Code            object\n",
                            "APR Severity of Illness Description     object\n",
                            "APR Risk of Mortality                   object\n",
                            "APR Medical Surgical Description        object\n",
                            "Payment Typology 1                      object\n",
                            "Payment Typology 2                      object\n",
                            "Payment Typology 3                      object\n",
                            "Attending Provider License Number       object\n",
                            "Operating Provider License Number       object\n",
                            "Other Provider License Number           object\n",
                            "Birth Weight                             int64\n",
                            "Abortion Edit Indicator                 object\n",
                            "Emergency Department Indicator          object\n",
                            "Total Charges                          float64\n",
                            "Total Costs                            float64\n",
                            "dtype: object"
                        ]
                    },
                    "metadata": {
                        "tags": []
                    },
                    "execution_count": null
                }
            ]
        },
        {
            "cell_type": "markdown",
            "metadata": {},
            "source": [
                "Kiểm tra lại thấy kiểu dữ liệu đã đúng."
            ]
        },
        {
            "cell_type": "markdown",
            "metadata": {},
            "source": [
                "Bước này ta sẽ tách bộ dữ liệu ra thành 2 nhóm riêng để dễ dàng phân tích và tiền xử lý."
            ]
        },
        {
            "cell_type": "code",
            "metadata": {},
            "source": [
                "nume_feature = df.select_dtypes(exclude='object')\n",
                "cate_feature = df.select_dtypes(include='object');"
            ],
            "execution_count": null,
            "outputs": []
        },
        {
            "cell_type": "code",
            "metadata": {},
            "source": [
                "pd.set_option('display.max_colwidth', 200)\n",
                "def missing_ratio(df):\n",
                "    return round(df.isna().sum() * 100 / len(df), 2)\n",
                "def count(df):\n",
                "    return df.nunique()\n",
                "def value(df):\n",
                "    return dict((df.value_counts(normalize=True) * 100).round(2))"
            ],
            "execution_count": null,
            "outputs": []
        },
        {
            "cell_type": "code",
            "metadata": {},
            "source": [
                "nume_profile = nume_feature.describe().round(2)\n",
                "missing_inf = pd.DataFrame(df[nume_feature.columns].apply(missing_ratio), columns=[\"missing_ratio\"]).T\n",
                "nume_profile = pd.concat([nume_profile, missing_inf])\n",
                "nume_profile.T"
            ],
            "execution_count": null,
            "outputs": [
                {
                    "output_type": "execute_result",
                    "data": {
                        "text/html": [
                            "<div>\n",
                            "<style scoped>\n",
                            "    .dataframe tbody tr th:only-of-type {\n",
                            "        vertical-align: middle;\n",
                            "    }\n",
                            "\n",
                            "    .dataframe tbody tr th {\n",
                            "        vertical-align: top;\n",
                            "    }\n",
                            "\n",
                            "    .dataframe thead th {\n",
                            "        text-align: right;\n",
                            "    }\n",
                            "</style>\n",
                            "<table border=\"1\" class=\"dataframe\">\n",
                            "  <thead>\n",
                            "    <tr style=\"text-align: right;\">\n",
                            "      <th></th>\n",
                            "      <th>count</th>\n",
                            "      <th>mean</th>\n",
                            "      <th>std</th>\n",
                            "      <th>min</th>\n",
                            "      <th>25%</th>\n",
                            "      <th>50%</th>\n",
                            "      <th>75%</th>\n",
                            "      <th>max</th>\n",
                            "      <th>missing_ratio</th>\n",
                            "    </tr>\n",
                            "  </thead>\n",
                            "  <tbody>\n",
                            "    <tr>\n",
                            "      <th>Length of Stay</th>\n",
                            "      <td>2346760.0</td>\n",
                            "      <td>5.48</td>\n",
                            "      <td>8.03</td>\n",
                            "      <td>1.00</td>\n",
                            "      <td>2.00</td>\n",
                            "      <td>3.00</td>\n",
                            "      <td>6.00</td>\n",
                            "      <td>120.00</td>\n",
                            "      <td>0.0</td>\n",
                            "    </tr>\n",
                            "    <tr>\n",
                            "      <th>Discharge Year</th>\n",
                            "      <td>2346760.0</td>\n",
                            "      <td>2015.00</td>\n",
                            "      <td>0.00</td>\n",
                            "      <td>2015.00</td>\n",
                            "      <td>2015.00</td>\n",
                            "      <td>2015.00</td>\n",
                            "      <td>2015.00</td>\n",
                            "      <td>2015.00</td>\n",
                            "      <td>0.0</td>\n",
                            "    </tr>\n",
                            "    <tr>\n",
                            "      <th>Birth Weight</th>\n",
                            "      <td>2346760.0</td>\n",
                            "      <td>326.43</td>\n",
                            "      <td>1000.15</td>\n",
                            "      <td>0.00</td>\n",
                            "      <td>0.00</td>\n",
                            "      <td>0.00</td>\n",
                            "      <td>0.00</td>\n",
                            "      <td>9900.00</td>\n",
                            "      <td>0.0</td>\n",
                            "    </tr>\n",
                            "    <tr>\n",
                            "      <th>Total Charges</th>\n",
                            "      <td>2346760.0</td>\n",
                            "      <td>43205.62</td>\n",
                            "      <td>80438.95</td>\n",
                            "      <td>0.01</td>\n",
                            "      <td>12027.05</td>\n",
                            "      <td>23480.88</td>\n",
                            "      <td>46606.66</td>\n",
                            "      <td>7248390.82</td>\n",
                            "      <td>0.0</td>\n",
                            "    </tr>\n",
                            "    <tr>\n",
                            "      <th>Total Costs</th>\n",
                            "      <td>2346760.0</td>\n",
                            "      <td>15984.84</td>\n",
                            "      <td>32383.60</td>\n",
                            "      <td>0.00</td>\n",
                            "      <td>4724.15</td>\n",
                            "      <td>8791.39</td>\n",
                            "      <td>16834.67</td>\n",
                            "      <td>5236614.76</td>\n",
                            "      <td>0.0</td>\n",
                            "    </tr>\n",
                            "  </tbody>\n",
                            "</table>\n",
                            "</div>"
                        ],
                        "text/plain": [
                            "                    count      mean  ...         max  missing_ratio\n",
                            "Length of Stay  2346760.0      5.48  ...      120.00            0.0\n",
                            "Discharge Year  2346760.0   2015.00  ...     2015.00            0.0\n",
                            "Birth Weight    2346760.0    326.43  ...     9900.00            0.0\n",
                            "Total Charges   2346760.0  43205.62  ...  7248390.82            0.0\n",
                            "Total Costs     2346760.0  15984.84  ...  5236614.76            0.0\n",
                            "\n",
                            "[5 rows x 9 columns]"
                        ]
                    },
                    "metadata": {
                        "tags": []
                    },
                    "execution_count": null
                }
            ]
        },
        {
            "cell_type": "code",
            "metadata": {},
            "source": [
                "cate_profile = cate_feature.agg([missing_ratio, count, value])\n",
                "cate_profile.T"
            ],
            "execution_count": null,
            "outputs": [
                {
                    "output_type": "execute_result",
                    "data": {
                        "text/html": [
                            "<div>\n",
                            "<style scoped>\n",
                            "    .dataframe tbody tr th:only-of-type {\n",
                            "        vertical-align: middle;\n",
                            "    }\n",
                            "\n",
                            "    .dataframe tbody tr th {\n",
                            "        vertical-align: top;\n",
                            "    }\n",
                            "\n",
                            "    .dataframe thead th {\n",
                            "        text-align: right;\n",
                            "    }\n",
                            "</style>\n",
                            "<table border=\"1\" class=\"dataframe\">\n",
                            "  <thead>\n",
                            "    <tr style=\"text-align: right;\">\n",
                            "      <th></th>\n",
                            "      <th>missing_ratio</th>\n",
                            "      <th>count</th>\n",
                            "      <th>value</th>\n",
                            "    </tr>\n",
                            "  </thead>\n",
                            "  <tbody>\n",
                            "    <tr>\n",
                            "      <th>Health Service Area</th>\n",
                            "      <td>0.12</td>\n",
                            "      <td>8</td>\n",
                            "      <td>{'New York City': 46.6, 'Long Island': 14.48, 'Hudson Valley': 10.49, 'Capital/Adiron': 7.14, 'Western NY': 6.99, 'Central NY': 6.76, 'Finger Lakes': 6.25, 'Southern Tier': 1.29}</td>\n",
                            "    </tr>\n",
                            "    <tr>\n",
                            "      <th>Hospital County</th>\n",
                            "      <td>0.12</td>\n",
                            "      <td>57</td>\n",
                            "      <td>{'Manhattan': 17.11, 'Kings': 10.62, 'Queens': 8.41, 'Bronx': 8.03, 'Nassau': 7.73, 'Suffolk': 6.75, 'Erie': 5.14, 'Westchester': 5.09, 'Monroe': 4.49, 'Onondaga': 3.34, 'Albany': 2.8, 'Richmond':...</td>\n",
                            "    </tr>\n",
                            "    <tr>\n",
                            "      <th>Operating Certificate Number</th>\n",
                            "      <td>0</td>\n",
                            "      <td>180</td>\n",
                            "      <td>{'7002054.0': 5.02, '7000006.0': 3.8, '7002024.0': 2.73, '7003004.0': 2.66, '1401014.0': 2.32, '2951001.0': 2.19, '7002053.0': 1.92, '7002002.0': 1.9, '7001020.0': 1.79, '7004003.0': 1.76, '700102...</td>\n",
                            "    </tr>\n",
                            "    <tr>\n",
                            "      <th>Facility Id</th>\n",
                            "      <td>0</td>\n",
                            "      <td>214</td>\n",
                            "      <td>{'1456.0': 2.38, '541.0': 2.03, '1464.0': 2.02, '1458.0': 1.83, '1169.0': 1.82, '1305.0': 1.79, '1630.0': 1.74, '1306.0': 1.71, '413.0': 1.65, '1.0': 1.55, '245.0': 1.5, '511.0': 1.49, '1439.0': 1...</td>\n",
                            "    </tr>\n",
                            "    <tr>\n",
                            "      <th>Facility Name</th>\n",
                            "      <td>0</td>\n",
                            "      <td>215</td>\n",
                            "      <td>{'Mount Sinai Hospital': 2.38, 'North Shore University Hospital': 2.03, 'New York Presbyterian Hospital - Columbia Presbyterian Center': 2.02, 'New York Presbyterian Hospital - New York Weill Corn...</td>\n",
                            "    </tr>\n",
                            "    <tr>\n",
                            "      <th>Age Group</th>\n",
                            "      <td>0</td>\n",
                            "      <td>5</td>\n",
                            "      <td>{'50 to 69': 27.48, '70 or Older': 27.42, '30 to 49': 19.54, '0 to 17': 15.02, '18 to 29': 10.53}</td>\n",
                            "    </tr>\n",
                            "    <tr>\n",
                            "      <th>Zip Code - 3 digits</th>\n",
                            "      <td>0.19</td>\n",
                            "      <td>50</td>\n",
                            "      <td>{'112': 13.39, '104': 9.61, '117': 7.77, '100': 7.26, '113': 5.19, '114': 3.9, '115': 3.79, 'OOS': 2.87, '142': 2.82, '103': 2.66, '105': 2.64, '109': 2.53, '146': 2.4, '125': 1.98, '140': 1.87, '...</td>\n",
                            "    </tr>\n",
                            "    <tr>\n",
                            "      <th>Gender</th>\n",
                            "      <td>0</td>\n",
                            "      <td>3</td>\n",
                            "      <td>{'F': 55.72, 'M': 44.28, 'U': 0.0}</td>\n",
                            "    </tr>\n",
                            "    <tr>\n",
                            "      <th>Race</th>\n",
                            "      <td>0</td>\n",
                            "      <td>4</td>\n",
                            "      <td>{'White': 56.88, 'Other Race': 23.2, 'Black/African American': 18.96, 'Multi-racial': 0.95}</td>\n",
                            "    </tr>\n",
                            "    <tr>\n",
                            "      <th>Ethnicity</th>\n",
                            "      <td>0</td>\n",
                            "      <td>4</td>\n",
                            "      <td>{'Not Span/Hispanic': 83.28, 'Spanish/Hispanic': 11.87, 'Unknown': 4.47, 'Multi-ethnic': 0.37}</td>\n",
                            "    </tr>\n",
                            "    <tr>\n",
                            "      <th>Type of Admission</th>\n",
                            "      <td>0</td>\n",
                            "      <td>6</td>\n",
                            "      <td>{'Emergency': 63.41, 'Elective': 19.06, 'Newborn': 9.68, 'Urgent': 7.53, 'Trauma': 0.27, 'Not Available': 0.05}</td>\n",
                            "    </tr>\n",
                            "    <tr>\n",
                            "      <th>Patient Disposition</th>\n",
                            "      <td>0</td>\n",
                            "      <td>19</td>\n",
                            "      <td>{'Home or Self Care': 66.99, 'Home w/ Home Health Services': 12.97, 'Skilled Nursing Home': 9.55, 'Expired': 2.17, 'Left Against Medical Advice': 2.01, 'Inpatient Rehabilitation Facility': 1.9, 'S...</td>\n",
                            "    </tr>\n",
                            "    <tr>\n",
                            "      <th>CCS Diagnosis Code</th>\n",
                            "      <td>0</td>\n",
                            "      <td>263</td>\n",
                            "      <td>{'218': 9.66, '2': 4.63, '203': 2.7, '108': 2.5, '657': 2.43, '122': 2.01, '660': 1.86, '659': 1.84, '106': 1.82, '195': 1.69, '237': 1.64, '197': 1.58, '661': 1.56, '109': 1.51, '205': 1.46, '127...</td>\n",
                            "    </tr>\n",
                            "    <tr>\n",
                            "      <th>CCS Diagnosis Description</th>\n",
                            "      <td>0</td>\n",
                            "      <td>263</td>\n",
                            "      <td>{'Liveborn': 9.66, 'Septicemia (except in labor)': 4.63, 'Osteoarthritis': 2.7, 'Congestive heart failure; nonhypertensive': 2.5, 'Mood disorders': 2.43, 'Pneumonia (except that caused by tubercul...</td>\n",
                            "    </tr>\n",
                            "    <tr>\n",
                            "      <th>CCS Procedure Code</th>\n",
                            "      <td>0</td>\n",
                            "      <td>232</td>\n",
                            "      <td>{'0': 26.0, '231': 7.48, '137': 3.56, '228': 3.45, '134': 3.19, '216': 3.16, '219': 2.52, '218': 2.28, '115': 1.95, '220': 1.74, '222': 1.69, '152': 1.64, '140': 1.51, '153': 1.39, '70': 1.18, '47...</td>\n",
                            "    </tr>\n",
                            "    <tr>\n",
                            "      <th>CCS Procedure Description</th>\n",
                            "      <td>0</td>\n",
                            "      <td>232</td>\n",
                            "      <td>{'NO PROC': 26.0, 'OTHER THERAPEUTIC PRCS': 7.48, 'OT PRCS TO ASSIST DELIV': 3.56, 'PROPHYLACTIC VAC/INOCUL': 3.45, 'CESAREAN SECTION': 3.19, 'RESP INTUB/MECH VENTIL': 3.16, 'ALCO/DRUG REHAB/DETOX...</td>\n",
                            "    </tr>\n",
                            "    <tr>\n",
                            "      <th>APR DRG Code</th>\n",
                            "      <td>0</td>\n",
                            "      <td>316</td>\n",
                            "      <td>{'640': 8.44, '560': 6.27, '720': 4.05, '540': 3.24, '194': 2.4, '139': 1.83, '140': 1.74, '302': 1.64, '750': 1.52, '383': 1.48, '201': 1.4, '301': 1.39, '460': 1.25, '463': 1.21, '753': 1.18, '7...</td>\n",
                            "    </tr>\n",
                            "    <tr>\n",
                            "      <th>APR DRG Description</th>\n",
                            "      <td>0</td>\n",
                            "      <td>316</td>\n",
                            "      <td>{'Neonate birthwt &gt;2499g, normal newborn or neonate w other problem': 8.44, 'Vaginal delivery': 6.27, 'Septicemia &amp; disseminated infections': 4.05, 'Cesarean delivery': 3.24, 'Heart failure': 2.4,...</td>\n",
                            "    </tr>\n",
                            "    <tr>\n",
                            "      <th>APR MDC Code</th>\n",
                            "      <td>0</td>\n",
                            "      <td>26</td>\n",
                            "      <td>{'5': 12.34, '14': 10.83, '15': 9.88, '8': 8.72, '6': 8.42, '4': 8.37, '1': 6.05, '18': 5.58, '19': 4.95, '11': 4.36, '20': 3.2, '10': 3.11, '7': 2.69, '9': 2.59, '23': 1.72, '16': 1.5, '3': 1.29,...</td>\n",
                            "    </tr>\n",
                            "    <tr>\n",
                            "      <th>APR MDC Description</th>\n",
                            "      <td>0</td>\n",
                            "      <td>26</td>\n",
                            "      <td>{'Diseases and Disorders of the Circulatory System': 12.34, 'Pregnancy, Childbirth and the Puerperium': 10.83, 'Newborns and Other Neonates with Conditions Originating in the Perinatal Period': 9....</td>\n",
                            "    </tr>\n",
                            "    <tr>\n",
                            "      <th>APR Severity of Illness Code</th>\n",
                            "      <td>0</td>\n",
                            "      <td>5</td>\n",
                            "      <td>{'2': 38.23, '1': 33.47, '3': 22.04, '4': 6.25, '0': 0.0}</td>\n",
                            "    </tr>\n",
                            "    <tr>\n",
                            "      <th>APR Severity of Illness Description</th>\n",
                            "      <td>0</td>\n",
                            "      <td>4</td>\n",
                            "      <td>{'Moderate': 38.24, 'Minor': 33.47, 'Major': 22.04, 'Extreme': 6.25}</td>\n",
                            "    </tr>\n",
                            "    <tr>\n",
                            "      <th>APR Risk of Mortality</th>\n",
                            "      <td>0</td>\n",
                            "      <td>4</td>\n",
                            "      <td>{'Minor': 59.22, 'Moderate': 21.31, 'Major': 14.29, 'Extreme': 5.19}</td>\n",
                            "    </tr>\n",
                            "    <tr>\n",
                            "      <th>APR Medical Surgical Description</th>\n",
                            "      <td>0</td>\n",
                            "      <td>3</td>\n",
                            "      <td>{'Medical': 75.83, 'Surgical': 24.17, 'Not Applicable': 0.0}</td>\n",
                            "    </tr>\n",
                            "    <tr>\n",
                            "      <th>Payment Typology 1</th>\n",
                            "      <td>0</td>\n",
                            "      <td>10</td>\n",
                            "      <td>{'Medicare': 37.34, 'Medicaid': 30.56, 'Private Health Insurance': 14.26, 'Blue Cross/Blue Shield': 11.74, 'Self-Pay': 2.89, 'Miscellaneous/Other': 1.24, 'Managed Care, Unspecified': 0.98, 'Federa...</td>\n",
                            "    </tr>\n",
                            "    <tr>\n",
                            "      <th>Payment Typology 2</th>\n",
                            "      <td>32.49</td>\n",
                            "      <td>10</td>\n",
                            "      <td>{'Medicaid': 35.01, 'Self-Pay': 23.11, 'Medicare': 21.26, 'Private Health Insurance': 10.2, 'Blue Cross/Blue Shield': 7.85, 'Miscellaneous/Other': 1.03, 'Federal/State/Local/VA': 0.68, 'Unknown': ...</td>\n",
                            "    </tr>\n",
                            "    <tr>\n",
                            "      <th>Payment Typology 3</th>\n",
                            "      <td>70.12</td>\n",
                            "      <td>10</td>\n",
                            "      <td>{'Self-Pay': 68.4, 'Medicaid': 17.77, 'Private Health Insurance': 4.97, 'Blue Cross/Blue Shield': 3.06, 'Medicare': 2.71, 'Unknown': 2.42, 'Federal/State/Local/VA': 0.47, 'Managed Care, Unspecifie...</td>\n",
                            "    </tr>\n",
                            "    <tr>\n",
                            "      <th>Attending Provider License Number</th>\n",
                            "      <td>0</td>\n",
                            "      <td>27088</td>\n",
                            "      <td>{'149952.0': 0.16, '260380.0': 0.15, 'nan': 0.12, '153130.0': 0.12, '175020.0': 0.12, '227307.0': 0.12, '229384.0': 0.11, '212405.0': 0.11, '166545.0': 0.1, '179860.0': 0.09, '275621.0': 0.09, '18...</td>\n",
                            "    </tr>\n",
                            "    <tr>\n",
                            "      <th>Operating Provider License Number</th>\n",
                            "      <td>0</td>\n",
                            "      <td>35671</td>\n",
                            "      <td>{'nan': 26.11, '110461.0': 0.16, '149952.0': 0.16, '153130.0': 0.12, '175020.0': 0.12, '260380.0': 0.1, '212405.0': 0.1, '227307.0': 0.1, '179860.0': 0.09, '188451.0': 0.08, '275621.0': 0.08, '258...</td>\n",
                            "    </tr>\n",
                            "    <tr>\n",
                            "      <th>Other Provider License Number</th>\n",
                            "      <td>0</td>\n",
                            "      <td>2513</td>\n",
                            "      <td>{'nan': 96.96, '127734.0': 0.08, '145418.0': 0.06, '227145.0': 0.03, '60332957.0': 0.03, '175598.0': 0.02, '226795.0': 0.02, '90333536.0': 0.02, '192582.0': 0.02, '144039.0': 0.02, '265859.0': 0.0...</td>\n",
                            "    </tr>\n",
                            "    <tr>\n",
                            "      <th>Abortion Edit Indicator</th>\n",
                            "      <td>0</td>\n",
                            "      <td>2</td>\n",
                            "      <td>{'N': 99.88, 'Y': 0.12}</td>\n",
                            "    </tr>\n",
                            "    <tr>\n",
                            "      <th>Emergency Department Indicator</th>\n",
                            "      <td>0</td>\n",
                            "      <td>2</td>\n",
                            "      <td>{'Y': 58.34, 'N': 41.66}</td>\n",
                            "    </tr>\n",
                            "  </tbody>\n",
                            "</table>\n",
                            "</div>"
                        ],
                        "text/plain": [
                            "                                    missing_ratio  ...                                                                                                                                                                                                    value\n",
                            "Health Service Area                          0.12  ...                       {'New York City': 46.6, 'Long Island': 14.48, 'Hudson Valley': 10.49, 'Capital/Adiron': 7.14, 'Western NY': 6.99, 'Central NY': 6.76, 'Finger Lakes': 6.25, 'Southern Tier': 1.29}\n",
                            "Hospital County                              0.12  ...  {'Manhattan': 17.11, 'Kings': 10.62, 'Queens': 8.41, 'Bronx': 8.03, 'Nassau': 7.73, 'Suffolk': 6.75, 'Erie': 5.14, 'Westchester': 5.09, 'Monroe': 4.49, 'Onondaga': 3.34, 'Albany': 2.8, 'Richmond':...\n",
                            "Operating Certificate Number                    0  ...  {'7002054.0': 5.02, '7000006.0': 3.8, '7002024.0': 2.73, '7003004.0': 2.66, '1401014.0': 2.32, '2951001.0': 2.19, '7002053.0': 1.92, '7002002.0': 1.9, '7001020.0': 1.79, '7004003.0': 1.76, '700102...\n",
                            "Facility Id                                     0  ...  {'1456.0': 2.38, '541.0': 2.03, '1464.0': 2.02, '1458.0': 1.83, '1169.0': 1.82, '1305.0': 1.79, '1630.0': 1.74, '1306.0': 1.71, '413.0': 1.65, '1.0': 1.55, '245.0': 1.5, '511.0': 1.49, '1439.0': 1...\n",
                            "Facility Name                                   0  ...  {'Mount Sinai Hospital': 2.38, 'North Shore University Hospital': 2.03, 'New York Presbyterian Hospital - Columbia Presbyterian Center': 2.02, 'New York Presbyterian Hospital - New York Weill Corn...\n",
                            "Age Group                                       0  ...                                                                                                        {'50 to 69': 27.48, '70 or Older': 27.42, '30 to 49': 19.54, '0 to 17': 15.02, '18 to 29': 10.53}\n",
                            "Zip Code - 3 digits                          0.19  ...  {'112': 13.39, '104': 9.61, '117': 7.77, '100': 7.26, '113': 5.19, '114': 3.9, '115': 3.79, 'OOS': 2.87, '142': 2.82, '103': 2.66, '105': 2.64, '109': 2.53, '146': 2.4, '125': 1.98, '140': 1.87, '...\n",
                            "Gender                                          0  ...                                                                                                                                                                       {'F': 55.72, 'M': 44.28, 'U': 0.0}\n",
                            "Race                                            0  ...                                                                                                              {'White': 56.88, 'Other Race': 23.2, 'Black/African American': 18.96, 'Multi-racial': 0.95}\n",
                            "Ethnicity                                       0  ...                                                                                                           {'Not Span/Hispanic': 83.28, 'Spanish/Hispanic': 11.87, 'Unknown': 4.47, 'Multi-ethnic': 0.37}\n",
                            "Type of Admission                               0  ...                                                                                          {'Emergency': 63.41, 'Elective': 19.06, 'Newborn': 9.68, 'Urgent': 7.53, 'Trauma': 0.27, 'Not Available': 0.05}\n",
                            "Patient Disposition                             0  ...  {'Home or Self Care': 66.99, 'Home w/ Home Health Services': 12.97, 'Skilled Nursing Home': 9.55, 'Expired': 2.17, 'Left Against Medical Advice': 2.01, 'Inpatient Rehabilitation Facility': 1.9, 'S...\n",
                            "CCS Diagnosis Code                              0  ...  {'218': 9.66, '2': 4.63, '203': 2.7, '108': 2.5, '657': 2.43, '122': 2.01, '660': 1.86, '659': 1.84, '106': 1.82, '195': 1.69, '237': 1.64, '197': 1.58, '661': 1.56, '109': 1.51, '205': 1.46, '127...\n",
                            "CCS Diagnosis Description                       0  ...  {'Liveborn': 9.66, 'Septicemia (except in labor)': 4.63, 'Osteoarthritis': 2.7, 'Congestive heart failure; nonhypertensive': 2.5, 'Mood disorders': 2.43, 'Pneumonia (except that caused by tubercul...\n",
                            "CCS Procedure Code                              0  ...  {'0': 26.0, '231': 7.48, '137': 3.56, '228': 3.45, '134': 3.19, '216': 3.16, '219': 2.52, '218': 2.28, '115': 1.95, '220': 1.74, '222': 1.69, '152': 1.64, '140': 1.51, '153': 1.39, '70': 1.18, '47...\n",
                            "CCS Procedure Description                       0  ...  {'NO PROC': 26.0, 'OTHER THERAPEUTIC PRCS': 7.48, 'OT PRCS TO ASSIST DELIV': 3.56, 'PROPHYLACTIC VAC/INOCUL': 3.45, 'CESAREAN SECTION': 3.19, 'RESP INTUB/MECH VENTIL': 3.16, 'ALCO/DRUG REHAB/DETOX...\n",
                            "APR DRG Code                                    0  ...  {'640': 8.44, '560': 6.27, '720': 4.05, '540': 3.24, '194': 2.4, '139': 1.83, '140': 1.74, '302': 1.64, '750': 1.52, '383': 1.48, '201': 1.4, '301': 1.39, '460': 1.25, '463': 1.21, '753': 1.18, '7...\n",
                            "APR DRG Description                             0  ...  {'Neonate birthwt >2499g, normal newborn or neonate w other problem': 8.44, 'Vaginal delivery': 6.27, 'Septicemia & disseminated infections': 4.05, 'Cesarean delivery': 3.24, 'Heart failure': 2.4,...\n",
                            "APR MDC Code                                    0  ...  {'5': 12.34, '14': 10.83, '15': 9.88, '8': 8.72, '6': 8.42, '4': 8.37, '1': 6.05, '18': 5.58, '19': 4.95, '11': 4.36, '20': 3.2, '10': 3.11, '7': 2.69, '9': 2.59, '23': 1.72, '16': 1.5, '3': 1.29,...\n",
                            "APR MDC Description                             0  ...  {'Diseases and Disorders of the Circulatory System': 12.34, 'Pregnancy, Childbirth and the Puerperium': 10.83, 'Newborns and Other Neonates with Conditions Originating in the Perinatal Period': 9....\n",
                            "APR Severity of Illness Code                    0  ...                                                                                                                                                {'2': 38.23, '1': 33.47, '3': 22.04, '4': 6.25, '0': 0.0}\n",
                            "APR Severity of Illness Description             0  ...                                                                                                                                     {'Moderate': 38.24, 'Minor': 33.47, 'Major': 22.04, 'Extreme': 6.25}\n",
                            "APR Risk of Mortality                           0  ...                                                                                                                                     {'Minor': 59.22, 'Moderate': 21.31, 'Major': 14.29, 'Extreme': 5.19}\n",
                            "APR Medical Surgical Description                0  ...                                                                                                                                             {'Medical': 75.83, 'Surgical': 24.17, 'Not Applicable': 0.0}\n",
                            "Payment Typology 1                              0  ...  {'Medicare': 37.34, 'Medicaid': 30.56, 'Private Health Insurance': 14.26, 'Blue Cross/Blue Shield': 11.74, 'Self-Pay': 2.89, 'Miscellaneous/Other': 1.24, 'Managed Care, Unspecified': 0.98, 'Federa...\n",
                            "Payment Typology 2                          32.49  ...  {'Medicaid': 35.01, 'Self-Pay': 23.11, 'Medicare': 21.26, 'Private Health Insurance': 10.2, 'Blue Cross/Blue Shield': 7.85, 'Miscellaneous/Other': 1.03, 'Federal/State/Local/VA': 0.68, 'Unknown': ...\n",
                            "Payment Typology 3                          70.12  ...  {'Self-Pay': 68.4, 'Medicaid': 17.77, 'Private Health Insurance': 4.97, 'Blue Cross/Blue Shield': 3.06, 'Medicare': 2.71, 'Unknown': 2.42, 'Federal/State/Local/VA': 0.47, 'Managed Care, Unspecifie...\n",
                            "Attending Provider License Number               0  ...  {'149952.0': 0.16, '260380.0': 0.15, 'nan': 0.12, '153130.0': 0.12, '175020.0': 0.12, '227307.0': 0.12, '229384.0': 0.11, '212405.0': 0.11, '166545.0': 0.1, '179860.0': 0.09, '275621.0': 0.09, '18...\n",
                            "Operating Provider License Number               0  ...  {'nan': 26.11, '110461.0': 0.16, '149952.0': 0.16, '153130.0': 0.12, '175020.0': 0.12, '260380.0': 0.1, '212405.0': 0.1, '227307.0': 0.1, '179860.0': 0.09, '188451.0': 0.08, '275621.0': 0.08, '258...\n",
                            "Other Provider License Number                   0  ...  {'nan': 96.96, '127734.0': 0.08, '145418.0': 0.06, '227145.0': 0.03, '60332957.0': 0.03, '175598.0': 0.02, '226795.0': 0.02, '90333536.0': 0.02, '192582.0': 0.02, '144039.0': 0.02, '265859.0': 0.0...\n",
                            "Abortion Edit Indicator                         0  ...                                                                                                                                                                                  {'N': 99.88, 'Y': 0.12}\n",
                            "Emergency Department Indicator                  0  ...                                                                                                                                                                                 {'Y': 58.34, 'N': 41.66}\n",
                            "\n",
                            "[32 rows x 3 columns]"
                        ]
                    },
                    "metadata": {
                        "tags": []
                    },
                    "execution_count": null
                }
            ]
        },
        {
            "cell_type": "markdown",
            "metadata": {},
            "source": [
                "## Lấy các thuộc tính hữu ích để phân tích"
            ]
        },
        {
            "cell_type": "markdown",
            "metadata": {},
            "source": [
                "Ta bỏ thuộc tính `Other Provider License Number` vì độ khuyết dữ liệu quá lớn. Ta cũng loại bỏ một số thuộc tính có yếu tố \"Descripion\" và một số thuộc tính khác.  \n"
            ]
        },
        {
            "cell_type": "code",
            "metadata": {},
            "source": [
                "del_columns = [\"Other Provider License Number\", \"CCS Diagnosis Description\", \"CCS Procedure Description\",\n",
                "               \"APR DRG Description\", \"APR MDC Description\", \"Facility Name\", \"APR Risk of Mortality\",\n",
                "               \"Attending Provider License Number\", \"Operating Provider License Number\", \"Health Service Area\", \"Race\",\n",
                "               \"APR Severity of Illness Description\", \"Hospital County\", \"Ethnicity\", \"Operating Certificate Number\"]\n",
                "columns = sorted(set(df.columns) - set(del_columns))"
            ],
            "execution_count": null,
            "outputs": []
        },
        {
            "cell_type": "markdown",
            "metadata": {},
            "source": [
                "**Các thuộc tính dùng để phân tích:**  \n",
                "- Facility Id\n",
                "- Discharge Year\n",
                "- Zip Code - 3 digits\n",
                "- CCS Diagnosis Code\n",
                "- CCS Procedure Code\n",
                "- APR DRG Code\n",
                "- APR MDC Code\n",
                "- APR Severity of Illness Code\n",
                "- Birth Weight\n",
                "- Age Group\n",
                "- Gender\n",
                "- Length of Stay\n",
                "- Type of Admission\n",
                "- Patient Disposition\n",
                "- APR Medical Surgical Description\n",
                "- APR Severity of Illness Description\n",
                "- Payment Typology 1\n",
                "- Payment Typology 2\n",
                "- Payment Typology 3\n",
                "- Abortion Edit Indicator\n",
                "- Emergency Department Indicator\n",
                "- Total Charges\n",
                "- Total Costs"
            ]
        },
        {
            "cell_type": "code",
            "metadata": {},
            "source": [
                "data = df[columns]\n",
                "data.sample(3, random_state=42)"
            ],
            "execution_count": null,
            "outputs": [
                {
                    "output_type": "execute_result",
                    "data": {
                        "text/html": [
                            "<div>\n",
                            "<style scoped>\n",
                            "    .dataframe tbody tr th:only-of-type {\n",
                            "        vertical-align: middle;\n",
                            "    }\n",
                            "\n",
                            "    .dataframe tbody tr th {\n",
                            "        vertical-align: top;\n",
                            "    }\n",
                            "\n",
                            "    .dataframe thead th {\n",
                            "        text-align: right;\n",
                            "    }\n",
                            "</style>\n",
                            "<table border=\"1\" class=\"dataframe\">\n",
                            "  <thead>\n",
                            "    <tr style=\"text-align: right;\">\n",
                            "      <th></th>\n",
                            "      <th>APR DRG Code</th>\n",
                            "      <th>APR MDC Code</th>\n",
                            "      <th>APR Medical Surgical Description</th>\n",
                            "      <th>APR Severity of Illness Code</th>\n",
                            "      <th>Abortion Edit Indicator</th>\n",
                            "      <th>Age Group</th>\n",
                            "      <th>Birth Weight</th>\n",
                            "      <th>CCS Diagnosis Code</th>\n",
                            "      <th>CCS Procedure Code</th>\n",
                            "      <th>Discharge Year</th>\n",
                            "      <th>Emergency Department Indicator</th>\n",
                            "      <th>Facility Id</th>\n",
                            "      <th>Gender</th>\n",
                            "      <th>Length of Stay</th>\n",
                            "      <th>Patient Disposition</th>\n",
                            "      <th>Payment Typology 1</th>\n",
                            "      <th>Payment Typology 2</th>\n",
                            "      <th>Payment Typology 3</th>\n",
                            "      <th>Total Charges</th>\n",
                            "      <th>Total Costs</th>\n",
                            "      <th>Type of Admission</th>\n",
                            "      <th>Zip Code - 3 digits</th>\n",
                            "    </tr>\n",
                            "  </thead>\n",
                            "  <tbody>\n",
                            "    <tr>\n",
                            "      <th>653914</th>\n",
                            "      <td>139</td>\n",
                            "      <td>4</td>\n",
                            "      <td>Medical</td>\n",
                            "      <td>2</td>\n",
                            "      <td>N</td>\n",
                            "      <td>70 or Older</td>\n",
                            "      <td>0</td>\n",
                            "      <td>123</td>\n",
                            "      <td>0</td>\n",
                            "      <td>2015</td>\n",
                            "      <td>Y</td>\n",
                            "      <td>1005.0</td>\n",
                            "      <td>M</td>\n",
                            "      <td>6</td>\n",
                            "      <td>Skilled Nursing Home</td>\n",
                            "      <td>Medicare</td>\n",
                            "      <td>NaN</td>\n",
                            "      <td>NaN</td>\n",
                            "      <td>28022.46</td>\n",
                            "      <td>11078.51</td>\n",
                            "      <td>Emergency</td>\n",
                            "      <td>128</td>\n",
                            "    </tr>\n",
                            "    <tr>\n",
                            "      <th>104569</th>\n",
                            "      <td>221</td>\n",
                            "      <td>6</td>\n",
                            "      <td>Surgical</td>\n",
                            "      <td>2</td>\n",
                            "      <td>N</td>\n",
                            "      <td>50 to 69</td>\n",
                            "      <td>0</td>\n",
                            "      <td>146</td>\n",
                            "      <td>78</td>\n",
                            "      <td>2015</td>\n",
                            "      <td>N</td>\n",
                            "      <td>218.0</td>\n",
                            "      <td>F</td>\n",
                            "      <td>4</td>\n",
                            "      <td>Home or Self Care</td>\n",
                            "      <td>Private Health Insurance</td>\n",
                            "      <td>NaN</td>\n",
                            "      <td>NaN</td>\n",
                            "      <td>27504.66</td>\n",
                            "      <td>14155.67</td>\n",
                            "      <td>Elective</td>\n",
                            "      <td>142</td>\n",
                            "    </tr>\n",
                            "    <tr>\n",
                            "      <th>1129243</th>\n",
                            "      <td>47</td>\n",
                            "      <td>1</td>\n",
                            "      <td>Medical</td>\n",
                            "      <td>2</td>\n",
                            "      <td>N</td>\n",
                            "      <td>70 or Older</td>\n",
                            "      <td>0</td>\n",
                            "      <td>112</td>\n",
                            "      <td>193</td>\n",
                            "      <td>2015</td>\n",
                            "      <td>Y</td>\n",
                            "      <td>1288.0</td>\n",
                            "      <td>M</td>\n",
                            "      <td>6</td>\n",
                            "      <td>Home w/ Home Health Services</td>\n",
                            "      <td>Medicare</td>\n",
                            "      <td>Medicare</td>\n",
                            "      <td>Medicaid</td>\n",
                            "      <td>64164.39</td>\n",
                            "      <td>20277.91</td>\n",
                            "      <td>Emergency</td>\n",
                            "      <td>112</td>\n",
                            "    </tr>\n",
                            "  </tbody>\n",
                            "</table>\n",
                            "</div>"
                        ],
                        "text/plain": [
                            "        APR DRG Code APR MDC Code  ... Type of Admission Zip Code - 3 digits\n",
                            "653914           139            4  ...         Emergency                 128\n",
                            "104569           221            6  ...          Elective                 142\n",
                            "1129243           47            1  ...         Emergency                 112\n",
                            "\n",
                            "[3 rows x 22 columns]"
                        ]
                    },
                    "metadata": {
                        "tags": []
                    },
                    "execution_count": null
                }
            ]
        },
        {
            "cell_type": "markdown",
            "metadata": {},
            "source": [
                "# Xử lý dữ liệu"
            ]
        },
        {
            "cell_type": "markdown",
            "metadata": {},
            "source": [
                "## Tạo thuộc tính mới Payment"
            ]
        },
        {
            "cell_type": "markdown",
            "metadata": {},
            "source": [
                "Thuộc tính `Payment` này sẽ tổng hợp 3 hình thức thanh toán trên vào một mảng, để vừa giảm số thuộc tính lại vừa giúp dữ liệu không còn bị null nữa. Ta có thể tiếp tục xử lý tiếp thuộc tính này khi đặt câu hỏi."
            ]
        },
        {
            "cell_type": "code",
            "metadata": {},
            "source": [
                "payment = data[['Payment Typology 1','Payment Typology 2', 'Payment Typology 3']]\n",
                "payment"
            ],
            "execution_count": null,
            "outputs": [
                {
                    "output_type": "execute_result",
                    "data": {
                        "text/html": [
                            "<div>\n",
                            "<style scoped>\n",
                            "    .dataframe tbody tr th:only-of-type {\n",
                            "        vertical-align: middle;\n",
                            "    }\n",
                            "\n",
                            "    .dataframe tbody tr th {\n",
                            "        vertical-align: top;\n",
                            "    }\n",
                            "\n",
                            "    .dataframe thead th {\n",
                            "        text-align: right;\n",
                            "    }\n",
                            "</style>\n",
                            "<table border=\"1\" class=\"dataframe\">\n",
                            "  <thead>\n",
                            "    <tr style=\"text-align: right;\">\n",
                            "      <th></th>\n",
                            "      <th>Payment Typology 1</th>\n",
                            "      <th>Payment Typology 2</th>\n",
                            "      <th>Payment Typology 3</th>\n",
                            "    </tr>\n",
                            "  </thead>\n",
                            "  <tbody>\n",
                            "    <tr>\n",
                            "      <th>0</th>\n",
                            "      <td>Medicaid</td>\n",
                            "      <td>NaN</td>\n",
                            "      <td>NaN</td>\n",
                            "    </tr>\n",
                            "    <tr>\n",
                            "      <th>1</th>\n",
                            "      <td>Medicaid</td>\n",
                            "      <td>NaN</td>\n",
                            "      <td>NaN</td>\n",
                            "    </tr>\n",
                            "    <tr>\n",
                            "      <th>2</th>\n",
                            "      <td>Medicaid</td>\n",
                            "      <td>NaN</td>\n",
                            "      <td>NaN</td>\n",
                            "    </tr>\n",
                            "    <tr>\n",
                            "      <th>3</th>\n",
                            "      <td>Medicare</td>\n",
                            "      <td>NaN</td>\n",
                            "      <td>NaN</td>\n",
                            "    </tr>\n",
                            "    <tr>\n",
                            "      <th>4</th>\n",
                            "      <td>Medicaid</td>\n",
                            "      <td>NaN</td>\n",
                            "      <td>NaN</td>\n",
                            "    </tr>\n",
                            "    <tr>\n",
                            "      <th>...</th>\n",
                            "      <td>...</td>\n",
                            "      <td>...</td>\n",
                            "      <td>...</td>\n",
                            "    </tr>\n",
                            "    <tr>\n",
                            "      <th>2346755</th>\n",
                            "      <td>Medicare</td>\n",
                            "      <td>Medicare</td>\n",
                            "      <td>Private Health Insurance</td>\n",
                            "    </tr>\n",
                            "    <tr>\n",
                            "      <th>2346756</th>\n",
                            "      <td>Private Health Insurance</td>\n",
                            "      <td>NaN</td>\n",
                            "      <td>NaN</td>\n",
                            "    </tr>\n",
                            "    <tr>\n",
                            "      <th>2346757</th>\n",
                            "      <td>Medicaid</td>\n",
                            "      <td>NaN</td>\n",
                            "      <td>NaN</td>\n",
                            "    </tr>\n",
                            "    <tr>\n",
                            "      <th>2346758</th>\n",
                            "      <td>Medicare</td>\n",
                            "      <td>Medicare</td>\n",
                            "      <td>Blue Cross/Blue Shield</td>\n",
                            "    </tr>\n",
                            "    <tr>\n",
                            "      <th>2346759</th>\n",
                            "      <td>Self-Pay</td>\n",
                            "      <td>NaN</td>\n",
                            "      <td>NaN</td>\n",
                            "    </tr>\n",
                            "  </tbody>\n",
                            "</table>\n",
                            "<p>2346760 rows × 3 columns</p>\n",
                            "</div>"
                        ],
                        "text/plain": [
                            "               Payment Typology 1 Payment Typology 2        Payment Typology 3\n",
                            "0                        Medicaid                NaN                       NaN\n",
                            "1                        Medicaid                NaN                       NaN\n",
                            "2                        Medicaid                NaN                       NaN\n",
                            "3                        Medicare                NaN                       NaN\n",
                            "4                        Medicaid                NaN                       NaN\n",
                            "...                           ...                ...                       ...\n",
                            "2346755                  Medicare           Medicare  Private Health Insurance\n",
                            "2346756  Private Health Insurance                NaN                       NaN\n",
                            "2346757                  Medicaid                NaN                       NaN\n",
                            "2346758                  Medicare           Medicare    Blue Cross/Blue Shield\n",
                            "2346759                  Self-Pay                NaN                       NaN\n",
                            "\n",
                            "[2346760 rows x 3 columns]"
                        ]
                    },
                    "metadata": {
                        "tags": []
                    },
                    "execution_count": null
                }
            ]
        },
        {
            "cell_type": "code",
            "metadata": {},
            "source": [
                "data[\"Payment\"] = payment.apply(lambda x: x.values, axis=1)\n",
                "data.drop(columns = ['Payment Typology 1', 'Payment Typology 2', 'Payment Typology 3'], inplace=True)\n",
                "data.Payment"
            ],
            "execution_count": null,
            "outputs": [
                {
                    "output_type": "execute_result",
                    "data": {
                        "text/plain": [
                            "0                                    [Medicaid, nan, nan]\n",
                            "1                                    [Medicaid, nan, nan]\n",
                            "2                                    [Medicaid, nan, nan]\n",
                            "3                                    [Medicare, nan, nan]\n",
                            "4                                    [Medicaid, nan, nan]\n",
                            "                                ...                      \n",
                            "2346755    [Medicare, Medicare, Private Health Insurance]\n",
                            "2346756              [Private Health Insurance, nan, nan]\n",
                            "2346757                              [Medicaid, nan, nan]\n",
                            "2346758      [Medicare, Medicare, Blue Cross/Blue Shield]\n",
                            "2346759                              [Self-Pay, nan, nan]\n",
                            "Name: Payment, Length: 2346760, dtype: object"
                        ]
                    },
                    "metadata": {
                        "tags": []
                    },
                    "execution_count": null
                }
            ]
        },
        {
            "cell_type": "markdown",
            "metadata": {},
            "source": [
                "## Điền dữ liệu khuyết"
            ]
        },
        {
            "cell_type": "code",
            "metadata": {},
            "source": [
                "cate_missing_col = list(set(cate_profile.T[cate_profile.T['missing_ratio']>0].index)-set(del_columns)-set(payment.columns))\n",
                "cate_missing_col"
            ],
            "execution_count": null,
            "outputs": [
                {
                    "output_type": "execute_result",
                    "data": {
                        "text/plain": [
                            "['Zip Code - 3 digits']"
                        ]
                    },
                    "metadata": {
                        "tags": []
                    },
                    "execution_count": null
                }
            ]
        },
        {
            "cell_type": "code",
            "metadata": {},
            "source": [
                "nume_missing_col = list(set(nume_profile.T[nume_profile.T['missing_ratio']>0].index) - set(del_columns))\n",
                "nume_missing_col"
            ],
            "execution_count": null,
            "outputs": [
                {
                    "output_type": "execute_result",
                    "data": {
                        "text/plain": [
                            "[]"
                        ]
                    },
                    "metadata": {
                        "tags": []
                    },
                    "execution_count": null
                }
            ]
        },
        {
            "cell_type": "code",
            "metadata": {},
            "source": [
                "for col in cate_missing_col:\n",
                "    data[col].fillna(data[col].mode()[0], inplace=True)\n",
                "for col in nume_missing_col:\n",
                "    data[col].fillna(data[col].mean(), inplace=True)"
            ],
            "execution_count": null,
            "outputs": []
        },
        {
            "cell_type": "code",
            "metadata": {},
            "source": [
                "pd.DataFrame(data.isna().sum().rename('missing count')).T"
            ],
            "execution_count": null,
            "outputs": [
                {
                    "output_type": "execute_result",
                    "data": {
                        "text/html": [
                            "<div>\n",
                            "<style scoped>\n",
                            "    .dataframe tbody tr th:only-of-type {\n",
                            "        vertical-align: middle;\n",
                            "    }\n",
                            "\n",
                            "    .dataframe tbody tr th {\n",
                            "        vertical-align: top;\n",
                            "    }\n",
                            "\n",
                            "    .dataframe thead th {\n",
                            "        text-align: right;\n",
                            "    }\n",
                            "</style>\n",
                            "<table border=\"1\" class=\"dataframe\">\n",
                            "  <thead>\n",
                            "    <tr style=\"text-align: right;\">\n",
                            "      <th></th>\n",
                            "      <th>APR DRG Code</th>\n",
                            "      <th>APR MDC Code</th>\n",
                            "      <th>APR Medical Surgical Description</th>\n",
                            "      <th>APR Severity of Illness Code</th>\n",
                            "      <th>Abortion Edit Indicator</th>\n",
                            "      <th>Age Group</th>\n",
                            "      <th>Birth Weight</th>\n",
                            "      <th>CCS Diagnosis Code</th>\n",
                            "      <th>CCS Procedure Code</th>\n",
                            "      <th>Discharge Year</th>\n",
                            "      <th>Emergency Department Indicator</th>\n",
                            "      <th>Facility Id</th>\n",
                            "      <th>Gender</th>\n",
                            "      <th>Length of Stay</th>\n",
                            "      <th>Patient Disposition</th>\n",
                            "      <th>Total Charges</th>\n",
                            "      <th>Total Costs</th>\n",
                            "      <th>Type of Admission</th>\n",
                            "      <th>Zip Code - 3 digits</th>\n",
                            "      <th>Payment</th>\n",
                            "    </tr>\n",
                            "  </thead>\n",
                            "  <tbody>\n",
                            "    <tr>\n",
                            "      <th>missing count</th>\n",
                            "      <td>0</td>\n",
                            "      <td>0</td>\n",
                            "      <td>0</td>\n",
                            "      <td>0</td>\n",
                            "      <td>0</td>\n",
                            "      <td>0</td>\n",
                            "      <td>0</td>\n",
                            "      <td>0</td>\n",
                            "      <td>0</td>\n",
                            "      <td>0</td>\n",
                            "      <td>0</td>\n",
                            "      <td>0</td>\n",
                            "      <td>0</td>\n",
                            "      <td>0</td>\n",
                            "      <td>0</td>\n",
                            "      <td>0</td>\n",
                            "      <td>0</td>\n",
                            "      <td>0</td>\n",
                            "      <td>0</td>\n",
                            "      <td>0</td>\n",
                            "    </tr>\n",
                            "  </tbody>\n",
                            "</table>\n",
                            "</div>"
                        ],
                        "text/plain": [
                            "               APR DRG Code  APR MDC Code  ...  Zip Code - 3 digits  Payment\n",
                            "missing count             0             0  ...                    0        0\n",
                            "\n",
                            "[1 rows x 20 columns]"
                        ]
                    },
                    "metadata": {
                        "tags": []
                    },
                    "execution_count": null
                }
            ]
        },
        {
            "cell_type": "markdown",
            "metadata": {},
            "source": [
                "$\\rightarrow$ Dữ liệu không còn chứa các thuộc tính bị khuyết."
            ]
        },
        {
            "cell_type": "markdown",
            "metadata": {},
            "source": [
                "# Đặt câu hỏi cần trả lời\n"
            ]
        },
        {
            "cell_type": "markdown",
            "metadata": {},
            "source": [
                "## Câu hỏi 1"
            ]
        },
        {
            "cell_type": "markdown",
            "metadata": {},
            "source": [
                "## Câu hỏi 2"
            ]
        },
        {
            "cell_type": "markdown",
            "metadata": {},
            "source": [
                "Các bệnh viện thuộc khu vực nào thường tập trung nhiều ca bệnh nặng, phức tạp? Nếu có, vậy tại sao lại có sự không đồng đều như vậy?  \n",
                "\n",
                "Khi trả lời được câu hỏi này, ta có thể đưa ra được một vài hướng giải quyết để khắc phục vấn đề mất cân bằng trên. "
            ]
        },
        {
            "cell_type": "markdown",
            "metadata": {},
            "source": [
                "# Trả lời các câu hỏi"
            ]
        },
        {
            "cell_type": "markdown",
            "metadata": {},
            "source": [
                "## Câu hỏi 1"
            ]
        },
        {
            "cell_type": "markdown",
            "metadata": {},
            "source": [
                "### Tiền xử lý thêm để trả lời câu hỏi"
            ]
        },
        {
            "cell_type": "markdown",
            "metadata": {},
            "source": [
                "### Trả lời"
            ]
        },
        {
            "cell_type": "markdown",
            "metadata": {},
            "source": [
                "### Ý nghĩa khi trả lời được câu hỏi"
            ]
        },
        {
            "cell_type": "markdown",
            "metadata": {},
            "source": [
                "## Câu hỏi 2"
            ]
        },
        {
            "cell_type": "markdown",
            "metadata": {},
            "source": [
                "### Tiền xử lý thêm để trả lời câu hỏi"
            ]
        },
        {
            "cell_type": "markdown",
            "metadata": {},
            "source": [
                "Để phân loại các bệnh viện, ta dùng thuộc tính `ZipCode` để đại diện cho mã vùng. "
            ]
        },
        {
            "cell_type": "code",
            "metadata": {},
            "source": [
                "print(data['Zip Code - 3 digits'].nunique())\n",
                "patient_kount = data.groupby('Zip Code - 3 digits').count().iloc[:, 0].sort_values(ascending=False).rename('count')\n",
                "patient_kount"
            ],
            "execution_count": null,
            "outputs": [
                {
                    "output_type": "stream",
                    "text": [
                        "50\n"
                    ],
                    "name": "stdout"
                },
                {
                    "output_type": "execute_result",
                    "data": {
                        "text/plain": [
                            "Zip Code - 3 digits\n",
                            "112    317975\n",
                            "104    224997\n",
                            "117    182030\n",
                            "100    170127\n",
                            "113    121512\n",
                            "114     91278\n",
                            "115     88670\n",
                            "OOS     67143\n",
                            "142     66141\n",
                            "103     62231\n",
                            "105     61846\n",
                            "109     59262\n",
                            "146     56207\n",
                            "125     46284\n",
                            "140     43809\n",
                            "130     40065\n",
                            "120     34946\n",
                            "119     34085\n",
                            "145     31454\n",
                            "107     30947\n",
                            "121     30493\n",
                            "132     29328\n",
                            "144     29246\n",
                            "110     26779\n",
                            "136     26073\n",
                            "148     25026\n",
                            "128     24437\n",
                            "134     21469\n",
                            "141     21115\n",
                            "124     20468\n",
                            "111     20024\n",
                            "131     18518\n",
                            "123     18448\n",
                            "116     18445\n",
                            "122     17873\n",
                            "147     17279\n",
                            "133     16187\n",
                            "129     15133\n",
                            "137     14458\n",
                            "138     13709\n",
                            "127     12122\n",
                            "126     10865\n",
                            "135     10669\n",
                            "143     10160\n",
                            "108      9388\n",
                            "139      9110\n",
                            "106      9004\n",
                            "118      7932\n",
                            "149      6488\n",
                            "101      5505\n",
                            "Name: count, dtype: int64"
                        ]
                    },
                    "metadata": {
                        "tags": []
                    },
                    "execution_count": null
                }
            ]
        },
        {
            "cell_type": "markdown",
            "metadata": {},
            "source": [
                "Trong bộ dữ liệu này có 50 vùng khác nhau, khá khó để phân tích hết. Vì thế ta chỉ lấy các vùng có nhiều số liệu để phân tích nhằm cho ra kết quả khách quan thôi: "
            ]
        },
        {
            "cell_type": "code",
            "metadata": {},
            "source": [
                "top_area_count = patient_kount[patient_kount > patient_kount.mean()]\n",
                "print(top_area_count.shape[0])\n",
                "top_area_count"
            ],
            "execution_count": null,
            "outputs": [
                {
                    "output_type": "stream",
                    "text": [
                        "13\n"
                    ],
                    "name": "stdout"
                },
                {
                    "output_type": "execute_result",
                    "data": {
                        "text/plain": [
                            "Zip Code - 3 digits\n",
                            "112    317975\n",
                            "104    224997\n",
                            "117    182030\n",
                            "100    170127\n",
                            "113    121512\n",
                            "114     91278\n",
                            "115     88670\n",
                            "OOS     67143\n",
                            "142     66141\n",
                            "103     62231\n",
                            "105     61846\n",
                            "109     59262\n",
                            "146     56207\n",
                            "Name: count, dtype: int64"
                        ]
                    },
                    "metadata": {
                        "tags": []
                    },
                    "execution_count": null
                }
            ]
        },
        {
            "cell_type": "code",
            "metadata": {},
            "source": [
                "top_zip = top_area_count.index\n",
                "top_zip"
            ],
            "execution_count": null,
            "outputs": [
                {
                    "output_type": "execute_result",
                    "data": {
                        "text/plain": [
                            "Index(['112', '104', '117', '100', '113', '114', '115', 'OOS', '142', '103',\n",
                            "       '105', '109', '146'],\n",
                            "      dtype='object', name='Zip Code - 3 digits')"
                        ]
                    },
                    "metadata": {
                        "tags": []
                    },
                    "execution_count": null
                }
            ]
        },
        {
            "cell_type": "code",
            "metadata": {},
            "source": [
                "wk_data = data.loc[data['Zip Code - 3 digits'].isin(top_zip.values)]\n",
                "wk_data.shape"
            ],
            "execution_count": null,
            "outputs": [
                {
                    "output_type": "execute_result",
                    "data": {
                        "text/plain": [
                            "(1569419, 20)"
                        ]
                    },
                    "metadata": {
                        "tags": []
                    },
                    "execution_count": null
                }
            ]
        },
        {
            "cell_type": "markdown",
            "metadata": {},
            "source": [
                "---"
            ]
        },
        {
            "cell_type": "markdown",
            "metadata": {},
            "source": [
                "### Trả lời"
            ]
        },
        {
            "cell_type": "markdown",
            "metadata": {},
            "source": [
                "Tiếp theo, ta cần định nghĩa thế nào là một ca bệnh nặng, phức tạp.  \n",
                "Dễ thấy nhất thì ta phân tích vào trạng thái khi nhập viện của những người đó, và thời gian nằm viện. Nằm viện càng lâu thì bệnh càng nguy hiểm và phức tạp."
            ]
        },
        {
            "cell_type": "code",
            "metadata": {},
            "source": [
                "wk_data['Type of Admission'].unique()"
            ],
            "execution_count": null,
            "outputs": [
                {
                    "output_type": "execute_result",
                    "data": {
                        "text/plain": [
                            "array(['Emergency', 'Urgent', 'Elective', 'Trauma', 'Newborn',\n",
                            "       'Not Available'], dtype=object)"
                        ]
                    },
                    "metadata": {
                        "tags": []
                    },
                    "execution_count": null
                }
            ]
        },
        {
            "cell_type": "code",
            "metadata": {},
            "source": [
                "dangerous_types = ['Emergency', 'Urgent']\n",
                "def dangerous_patient_ratio(df):\n",
                "    dangerous_ratio = df['Type of Admission'].isin(dangerous_types).sum() / df.shape[0]\n",
                "    mean_stay = df['Length of Stay'].mean()\n",
                "\n",
                "    return pd.DataFrame({'dangerous_ratio': dangerous_ratio, 'mean_stay': mean_stay},\n",
                "                        index=pd.Series([df['Zip Code - 3 digits'].iloc[0],], name='Zip Code'))\n",
                "    \n",
                "dt = wk_data.groupby('Zip Code - 3 digits', group_keys=False).apply(dangerous_patient_ratio)\n",
                "dt"
            ],
            "execution_count": null,
            "outputs": [
                {
                    "output_type": "execute_result",
                    "data": {
                        "text/html": [
                            "<div>\n",
                            "<style scoped>\n",
                            "    .dataframe tbody tr th:only-of-type {\n",
                            "        vertical-align: middle;\n",
                            "    }\n",
                            "\n",
                            "    .dataframe tbody tr th {\n",
                            "        vertical-align: top;\n",
                            "    }\n",
                            "\n",
                            "    .dataframe thead th {\n",
                            "        text-align: right;\n",
                            "    }\n",
                            "</style>\n",
                            "<table border=\"1\" class=\"dataframe\">\n",
                            "  <thead>\n",
                            "    <tr style=\"text-align: right;\">\n",
                            "      <th></th>\n",
                            "      <th>dangerous_ratio</th>\n",
                            "      <th>mean_stay</th>\n",
                            "    </tr>\n",
                            "    <tr>\n",
                            "      <th>Zip Code</th>\n",
                            "      <th></th>\n",
                            "      <th></th>\n",
                            "    </tr>\n",
                            "  </thead>\n",
                            "  <tbody>\n",
                            "    <tr>\n",
                            "      <th>100</th>\n",
                            "      <td>0.725099</td>\n",
                            "      <td>5.922399</td>\n",
                            "    </tr>\n",
                            "    <tr>\n",
                            "      <th>103</th>\n",
                            "      <td>0.758095</td>\n",
                            "      <td>5.453038</td>\n",
                            "    </tr>\n",
                            "    <tr>\n",
                            "      <th>104</th>\n",
                            "      <td>0.790704</td>\n",
                            "      <td>5.434757</td>\n",
                            "    </tr>\n",
                            "    <tr>\n",
                            "      <th>105</th>\n",
                            "      <td>0.672412</td>\n",
                            "      <td>5.799065</td>\n",
                            "    </tr>\n",
                            "    <tr>\n",
                            "      <th>109</th>\n",
                            "      <td>0.633661</td>\n",
                            "      <td>5.313995</td>\n",
                            "    </tr>\n",
                            "    <tr>\n",
                            "      <th>112</th>\n",
                            "      <td>0.753015</td>\n",
                            "      <td>5.630795</td>\n",
                            "    </tr>\n",
                            "    <tr>\n",
                            "      <th>113</th>\n",
                            "      <td>0.722381</td>\n",
                            "      <td>5.535412</td>\n",
                            "    </tr>\n",
                            "    <tr>\n",
                            "      <th>114</th>\n",
                            "      <td>0.749710</td>\n",
                            "      <td>5.544315</td>\n",
                            "    </tr>\n",
                            "    <tr>\n",
                            "      <th>115</th>\n",
                            "      <td>0.721315</td>\n",
                            "      <td>5.496064</td>\n",
                            "    </tr>\n",
                            "    <tr>\n",
                            "      <th>117</th>\n",
                            "      <td>0.702846</td>\n",
                            "      <td>5.370071</td>\n",
                            "    </tr>\n",
                            "    <tr>\n",
                            "      <th>142</th>\n",
                            "      <td>0.646256</td>\n",
                            "      <td>5.595954</td>\n",
                            "    </tr>\n",
                            "    <tr>\n",
                            "      <th>146</th>\n",
                            "      <td>0.690483</td>\n",
                            "      <td>5.671642</td>\n",
                            "    </tr>\n",
                            "    <tr>\n",
                            "      <th>OOS</th>\n",
                            "      <td>0.562680</td>\n",
                            "      <td>5.539058</td>\n",
                            "    </tr>\n",
                            "  </tbody>\n",
                            "</table>\n",
                            "</div>"
                        ],
                        "text/plain": [
                            "          dangerous_ratio  mean_stay\n",
                            "Zip Code                            \n",
                            "100              0.725099   5.922399\n",
                            "103              0.758095   5.453038\n",
                            "104              0.790704   5.434757\n",
                            "105              0.672412   5.799065\n",
                            "109              0.633661   5.313995\n",
                            "112              0.753015   5.630795\n",
                            "113              0.722381   5.535412\n",
                            "114              0.749710   5.544315\n",
                            "115              0.721315   5.496064\n",
                            "117              0.702846   5.370071\n",
                            "142              0.646256   5.595954\n",
                            "146              0.690483   5.671642\n",
                            "OOS              0.562680   5.539058"
                        ]
                    },
                    "metadata": {
                        "tags": []
                    },
                    "execution_count": null
                }
            ]
        },
        {
            "cell_type": "code",
            "metadata": {},
            "source": [
                "srt_by_danger = dt.sort_values('dangerous_ratio', ascending=False)\n",
                "f, ax = plt.subplots(1, 2, figsize=(15, 6))\n",
                "\n",
                "ax[0].bar(srt_by_danger.index, srt_by_danger.dangerous_ratio)\n",
                "ax[0].set_xlabel('Zip Code'); ax[0].set_ylabel('dangerous_ratio');\n",
                "ax[0].set_title('Dangerous patient by Area');\n",
                "\n",
                "ax[1].bar(srt_by_danger.index, srt_by_danger.mean_stay);\n",
                "ax[1].set_xlabel('Zip Code'); ax[1].set_ylabel('mean_stay (days)');\n",
                "ax[1].set_title('Complex patient by Area');"
            ],
            "execution_count": null,
            "outputs": [
                {
                    "output_type": "display_data",
                    "data": {
                        "image/png": "[encoded data removed]",
                        "text/plain": [
                            "<Figure size 1080x432 with 2 Axes>"
                        ]
                    },
                    "metadata": {
                        "tags": [],
                        "needs_background": "light"
                    }
                }
            ]
        },
        {
            "cell_type": "markdown",
            "metadata": {},
            "source": [
                "Các khu vực có các ca nguy hiểm khi nhập viện cao nhất lần lượt là `104`, `103`, `112`, `114`.  \n",
                "Đồng thời thời gian nằm viện không thay đổi theo mức độ nguy hiểm mà dao động trong một khoảng nhỏ với trung bình là `5.5` ngày.\n",
                "\n",
                "Như vậy ta thấy, số ngày nằm viện không hẳn phụ thuộc vào mức độ nguy hiểm của ca mắc vào thời điểm nhập viện.  \n",
                "\n"
            ]
        },
        {
            "cell_type": "markdown",
            "metadata": {},
            "source": [
                "### Ý nghĩa khi trả lời được câu hỏi"
            ]
        },
        {
            "cell_type": "code",
            "metadata": {},
            "source": [
                ""
            ],
            "execution_count": null,
            "outputs": []
        }
    ]
}