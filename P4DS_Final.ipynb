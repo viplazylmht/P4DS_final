{
  "nbformat": 4,
  "nbformat_minor": 0,
  "metadata": {
    "colab": {
      "name": "P4DS_Final.ipynb",
      "provenance": [],
      "collapsed_sections": [
        "wMx2l2EE8774"
      ],
      "include_colab_link": true
    },
    "kernelspec": {
      "name": "python3",
      "display_name": "Python 3"
    },
    "language_info": {
      "name": "python"
    }
  },
  "cells": [
    {
      "cell_type": "markdown",
      "metadata": {
        "id": "view-in-github",
        "colab_type": "text"
      },
      "source": [
        "<a href=\"https://colab.research.google.com/github/viplazylmht/P4DS_final/blob/preprocessing/P4DS_Final.ipynb\" target=\"_parent\"><img src=\"https://colab.research.google.com/assets/colab-badge.svg\" alt=\"Open In Colab\"/></a>"
      ]
    },
    {
      "cell_type": "markdown",
      "metadata": {
        "id": "LSh8hg8TjN23"
      },
      "source": [
        "<h1 align=\"center\">P4DS - Final Project</h1>\n",
        "<p align=\"center\">\n",
        "  <a href=\"https://github.com/viplazylmht\">\n",
        "    <img src=\"https://img.shields.io/badge/18120339-viplazylmht-brightgreen.svg\">\n",
        "  </a>\n",
        "  <a href=\"https://github.com/vohieu00\">\n",
        "    <img src=\"https://img.shields.io/badge/18120379-vohieu00-brightgreen.svg\">\n",
        "  </a>\n",
        "</p>\n",
        "<svg width=\"100\" height=\"50\" xmlns=\"http://www.w3.org/2000/svg\"></svg>\n",
        "\n",
        "<h2>Contributors & References</h2>\n",
        "\n",
        "| STT | Họ và Tên | MSSV | Git\n",
        "|:-:|:-|:-:|:-:\n",
        "| Nhóm | Hà Văn Duy | 18120339 | [viplazylmht](https://github.com/viplazylmht)\n",
        "| 20 | Võ Thị Hiếu | 18120379 | [vohieu00](https://github.com/vohieu00)\n",
        "\n",
        "Data informations:\n",
        "\n",
        "- Dataset Description: [health.data.ny.gov](https://health.data.ny.gov/Health/Hospital-Inpatient-Discharges-SPARCS-De-Identified/82xm-y6g8)  \n",
        "\n",
        "- Kaggle: [2015 de-identified NY inpatient discharge (SPARCS)](https://www.kaggle.com/jonasalmeida/2015-deidentified-ny-inpatient-discharge-sparcs)\n",
        "\n"
      ]
    },
    {
      "cell_type": "markdown",
      "metadata": {
        "id": "YLAiUUp28s0t"
      },
      "source": [
        "<!-- **Sơ nét về dữ liệu** -->\n",
        "Tập dữ liệu được công khai bởi sở Y tế bang New York, chứa thông tin chi tiết về bệnh nhân khi xuất viện nhưng không chứa thông tin xác định danh tính."
      ]
    },
    {
      "cell_type": "markdown",
      "metadata": {
        "id": "Sx6cu0nWxV3l"
      },
      "source": [
        "# Import thư viện"
      ]
    },
    {
      "cell_type": "code",
      "metadata": {
        "id": "7ncu-02UcDGt"
      },
      "source": [
        "import numpy as np\n",
        "import pandas as pd\n",
        "\n",
        "import warnings\n",
        "warnings.simplefilter(action='ignore')"
      ],
      "execution_count": 24,
      "outputs": []
    },
    {
      "cell_type": "markdown",
      "metadata": {
        "id": "746IC7A-w_HS"
      },
      "source": [
        "# Thu thập dữ liệu"
      ]
    },
    {
      "cell_type": "markdown",
      "metadata": {
        "id": "OH3yAMfPxGOE"
      },
      "source": [
        "## Tải tập dữ liệu"
      ]
    },
    {
      "cell_type": "code",
      "metadata": {
        "colab": {
          "base_uri": "https://localhost:8080/"
        },
        "id": "x0_JXf91X7K_",
        "outputId": "34028c57-8460-4ee0-a597-42621a8878ee"
      },
      "source": [
        "!gdown --id 1UKxIYjWw6sPuITsv6RjgNsEFpx3vMJNX\n",
        "!unzip -o 2015-deidentified-ny-inpatient-discharge-sparcs.zip"
      ],
      "execution_count": 25,
      "outputs": [
        {
          "output_type": "stream",
          "text": [
            "Downloading...\n",
            "From: https://drive.google.com/uc?id=1UKxIYjWw6sPuITsv6RjgNsEFpx3vMJNX\n",
            "To: /content/2015-deidentified-ny-inpatient-discharge-sparcs.zip\n",
            "115MB [00:01, 87.2MB/s]\n",
            "Archive:  2015-deidentified-ny-inpatient-discharge-sparcs.zip\n",
            "  inflating: Hospital_Inpatient_Discharges__SPARCS_De-Identified___2015.csv  \n"
          ],
          "name": "stdout"
        }
      ]
    },
    {
      "cell_type": "code",
      "metadata": {
        "colab": {
          "base_uri": "https://localhost:8080/"
        },
        "id": "vs-bcY1hYpum",
        "outputId": "c4f0a51c-8c8e-4350-9a1f-168c3a6050e5"
      },
      "source": [
        "!ls"
      ],
      "execution_count": 26,
      "outputs": [
        {
          "output_type": "stream",
          "text": [
            "2015-deidentified-ny-inpatient-discharge-sparcs.zip\t\tsample_data\n",
            "Hospital_Inpatient_Discharges__SPARCS_De-Identified___2015.csv\n"
          ],
          "name": "stdout"
        }
      ]
    },
    {
      "cell_type": "markdown",
      "metadata": {
        "id": "JESMxC5ixZ2U"
      },
      "source": [
        "## Đọc dữ liệu"
      ]
    },
    {
      "cell_type": "code",
      "metadata": {
        "colab": {
          "base_uri": "https://localhost:8080/",
          "height": 653
        },
        "id": "CTf0Xc6pb_Ih",
        "outputId": "61e92bb0-4d4f-44f3-d55c-1dd4a16fe999"
      },
      "source": [
        "df = pd.read_csv('Hospital_Inpatient_Discharges__SPARCS_De-Identified___2015.csv')\n",
        "df.sample(5)"
      ],
      "execution_count": 27,
      "outputs": [
        {
          "output_type": "execute_result",
          "data": {
            "text/html": [
              "<div>\n",
              "<style scoped>\n",
              "    .dataframe tbody tr th:only-of-type {\n",
              "        vertical-align: middle;\n",
              "    }\n",
              "\n",
              "    .dataframe tbody tr th {\n",
              "        vertical-align: top;\n",
              "    }\n",
              "\n",
              "    .dataframe thead th {\n",
              "        text-align: right;\n",
              "    }\n",
              "</style>\n",
              "<table border=\"1\" class=\"dataframe\">\n",
              "  <thead>\n",
              "    <tr style=\"text-align: right;\">\n",
              "      <th></th>\n",
              "      <th>Health Service Area</th>\n",
              "      <th>Hospital County</th>\n",
              "      <th>Operating Certificate Number</th>\n",
              "      <th>Facility Id</th>\n",
              "      <th>Facility Name</th>\n",
              "      <th>Age Group</th>\n",
              "      <th>Zip Code - 3 digits</th>\n",
              "      <th>Gender</th>\n",
              "      <th>Race</th>\n",
              "      <th>Ethnicity</th>\n",
              "      <th>Length of Stay</th>\n",
              "      <th>Type of Admission</th>\n",
              "      <th>Patient Disposition</th>\n",
              "      <th>Discharge Year</th>\n",
              "      <th>CCS Diagnosis Code</th>\n",
              "      <th>CCS Diagnosis Description</th>\n",
              "      <th>CCS Procedure Code</th>\n",
              "      <th>CCS Procedure Description</th>\n",
              "      <th>APR DRG Code</th>\n",
              "      <th>APR DRG Description</th>\n",
              "      <th>APR MDC Code</th>\n",
              "      <th>APR MDC Description</th>\n",
              "      <th>APR Severity of Illness Code</th>\n",
              "      <th>APR Severity of Illness Description</th>\n",
              "      <th>APR Risk of Mortality</th>\n",
              "      <th>APR Medical Surgical Description</th>\n",
              "      <th>Payment Typology 1</th>\n",
              "      <th>Payment Typology 2</th>\n",
              "      <th>Payment Typology 3</th>\n",
              "      <th>Attending Provider License Number</th>\n",
              "      <th>Operating Provider License Number</th>\n",
              "      <th>Other Provider License Number</th>\n",
              "      <th>Birth Weight</th>\n",
              "      <th>Abortion Edit Indicator</th>\n",
              "      <th>Emergency Department Indicator</th>\n",
              "      <th>Total Charges</th>\n",
              "      <th>Total Costs</th>\n",
              "    </tr>\n",
              "  </thead>\n",
              "  <tbody>\n",
              "    <tr>\n",
              "      <th>951319</th>\n",
              "      <td>New York City</td>\n",
              "      <td>Bronx</td>\n",
              "      <td>7000006.0</td>\n",
              "      <td>1168.0</td>\n",
              "      <td>Montefiore Medical Center-Wakefield Hospital</td>\n",
              "      <td>30 to 49</td>\n",
              "      <td>104</td>\n",
              "      <td>F</td>\n",
              "      <td>Black/African American</td>\n",
              "      <td>Not Span/Hispanic</td>\n",
              "      <td>5</td>\n",
              "      <td>Emergency</td>\n",
              "      <td>Home or Self Care</td>\n",
              "      <td>2015</td>\n",
              "      <td>54</td>\n",
              "      <td>Gout and other crystal arthropathies</td>\n",
              "      <td>231</td>\n",
              "      <td>OTHER THERAPEUTIC PRCS</td>\n",
              "      <td>351</td>\n",
              "      <td>Other musculoskeletal system &amp; connective tissue diagnoses</td>\n",
              "      <td>8</td>\n",
              "      <td>Diseases and Disorders of the Musculoskeletal System and Conn Tissue</td>\n",
              "      <td>3</td>\n",
              "      <td>Major</td>\n",
              "      <td>Moderate</td>\n",
              "      <td>Medical</td>\n",
              "      <td>Medicare</td>\n",
              "      <td>Medicare</td>\n",
              "      <td>Medicaid</td>\n",
              "      <td>267895.0</td>\n",
              "      <td>267895.0</td>\n",
              "      <td>NaN</td>\n",
              "      <td>0</td>\n",
              "      <td>N</td>\n",
              "      <td>Y</td>\n",
              "      <td>$46489.15</td>\n",
              "      <td>$10489.46</td>\n",
              "    </tr>\n",
              "    <tr>\n",
              "      <th>2070596</th>\n",
              "      <td>Long Island</td>\n",
              "      <td>Nassau</td>\n",
              "      <td>2908000.0</td>\n",
              "      <td>511.0</td>\n",
              "      <td>Winthrop-University Hospital</td>\n",
              "      <td>18 to 29</td>\n",
              "      <td>117</td>\n",
              "      <td>F</td>\n",
              "      <td>Black/African American</td>\n",
              "      <td>Not Span/Hispanic</td>\n",
              "      <td>2</td>\n",
              "      <td>Elective</td>\n",
              "      <td>Home or Self Care</td>\n",
              "      <td>2015</td>\n",
              "      <td>195</td>\n",
              "      <td>Other complications of birth; puerperium affecting management of mother</td>\n",
              "      <td>137</td>\n",
              "      <td>OT PRCS TO ASSIST DELIV</td>\n",
              "      <td>560</td>\n",
              "      <td>Vaginal delivery</td>\n",
              "      <td>14</td>\n",
              "      <td>Pregnancy, Childbirth and the Puerperium</td>\n",
              "      <td>1</td>\n",
              "      <td>Minor</td>\n",
              "      <td>Minor</td>\n",
              "      <td>Medical</td>\n",
              "      <td>Medicaid</td>\n",
              "      <td>Medicaid</td>\n",
              "      <td>NaN</td>\n",
              "      <td>124851.0</td>\n",
              "      <td>124851.0</td>\n",
              "      <td>NaN</td>\n",
              "      <td>0</td>\n",
              "      <td>N</td>\n",
              "      <td>N</td>\n",
              "      <td>$21341.11</td>\n",
              "      <td>$6727.58</td>\n",
              "    </tr>\n",
              "    <tr>\n",
              "      <th>1495208</th>\n",
              "      <td>New York City</td>\n",
              "      <td>Manhattan</td>\n",
              "      <td>7002020.0</td>\n",
              "      <td>1453.0</td>\n",
              "      <td>Memorial Hospital for Cancer and Allied Diseases</td>\n",
              "      <td>30 to 49</td>\n",
              "      <td>103</td>\n",
              "      <td>M</td>\n",
              "      <td>White</td>\n",
              "      <td>Not Span/Hispanic</td>\n",
              "      <td>6</td>\n",
              "      <td>Elective</td>\n",
              "      <td>Home w/ Home Health Services</td>\n",
              "      <td>2015</td>\n",
              "      <td>15</td>\n",
              "      <td>Cancer of rectum and anus</td>\n",
              "      <td>78</td>\n",
              "      <td>COLORECTAL RESECTION</td>\n",
              "      <td>221</td>\n",
              "      <td>Major small &amp; large bowel procedures</td>\n",
              "      <td>6</td>\n",
              "      <td>Diseases and Disorders of the Digestive System</td>\n",
              "      <td>2</td>\n",
              "      <td>Moderate</td>\n",
              "      <td>Moderate</td>\n",
              "      <td>Surgical</td>\n",
              "      <td>Federal/State/Local/VA</td>\n",
              "      <td>Blue Cross/Blue Shield</td>\n",
              "      <td>NaN</td>\n",
              "      <td>162606.0</td>\n",
              "      <td>162606.0</td>\n",
              "      <td>NaN</td>\n",
              "      <td>0</td>\n",
              "      <td>N</td>\n",
              "      <td>N</td>\n",
              "      <td>$81507.18</td>\n",
              "      <td>$41550.93</td>\n",
              "    </tr>\n",
              "    <tr>\n",
              "      <th>2119907</th>\n",
              "      <td>Long Island</td>\n",
              "      <td>Nassau</td>\n",
              "      <td>2950001.0</td>\n",
              "      <td>527.0</td>\n",
              "      <td>South Nassau Communities Hospital</td>\n",
              "      <td>70 or Older</td>\n",
              "      <td>115</td>\n",
              "      <td>M</td>\n",
              "      <td>White</td>\n",
              "      <td>Not Span/Hispanic</td>\n",
              "      <td>3</td>\n",
              "      <td>Emergency</td>\n",
              "      <td>Skilled Nursing Home</td>\n",
              "      <td>2015</td>\n",
              "      <td>153</td>\n",
              "      <td>Gastrointestinal hemorrhage</td>\n",
              "      <td>0</td>\n",
              "      <td>NO PROC</td>\n",
              "      <td>253</td>\n",
              "      <td>Other &amp; unspecified gastrointestinal hemorrhage</td>\n",
              "      <td>6</td>\n",
              "      <td>Diseases and Disorders of the Digestive System</td>\n",
              "      <td>2</td>\n",
              "      <td>Moderate</td>\n",
              "      <td>Minor</td>\n",
              "      <td>Medical</td>\n",
              "      <td>Medicare</td>\n",
              "      <td>Blue Cross/Blue Shield</td>\n",
              "      <td>NaN</td>\n",
              "      <td>204962.0</td>\n",
              "      <td>NaN</td>\n",
              "      <td>NaN</td>\n",
              "      <td>0</td>\n",
              "      <td>N</td>\n",
              "      <td>Y</td>\n",
              "      <td>$20980.97</td>\n",
              "      <td>$4096.44</td>\n",
              "    </tr>\n",
              "    <tr>\n",
              "      <th>1269180</th>\n",
              "      <td>New York City</td>\n",
              "      <td>Kings</td>\n",
              "      <td>7001021.0</td>\n",
              "      <td>1306.0</td>\n",
              "      <td>New York Methodist Hospital</td>\n",
              "      <td>50 to 69</td>\n",
              "      <td>112</td>\n",
              "      <td>F</td>\n",
              "      <td>Black/African American</td>\n",
              "      <td>Not Span/Hispanic</td>\n",
              "      <td>2</td>\n",
              "      <td>Emergency</td>\n",
              "      <td>Home or Self Care</td>\n",
              "      <td>2015</td>\n",
              "      <td>50</td>\n",
              "      <td>Diabetes mellitus with complications</td>\n",
              "      <td>0</td>\n",
              "      <td>NO PROC</td>\n",
              "      <td>420</td>\n",
              "      <td>Diabetes</td>\n",
              "      <td>10</td>\n",
              "      <td>Endocrine, Nutritional and Metabolic Diseases and Disorders</td>\n",
              "      <td>2</td>\n",
              "      <td>Moderate</td>\n",
              "      <td>Minor</td>\n",
              "      <td>Medical</td>\n",
              "      <td>Medicaid</td>\n",
              "      <td>Self-Pay</td>\n",
              "      <td>NaN</td>\n",
              "      <td>266521.0</td>\n",
              "      <td>NaN</td>\n",
              "      <td>NaN</td>\n",
              "      <td>0</td>\n",
              "      <td>N</td>\n",
              "      <td>Y</td>\n",
              "      <td>$12665.06</td>\n",
              "      <td>$3662.29</td>\n",
              "    </tr>\n",
              "  </tbody>\n",
              "</table>\n",
              "</div>"
            ],
            "text/plain": [
              "        Health Service Area Hospital County  ...  Total Charges  Total Costs\n",
              "951319        New York City           Bronx  ...      $46489.15    $10489.46\n",
              "2070596         Long Island          Nassau  ...      $21341.11     $6727.58\n",
              "1495208       New York City       Manhattan  ...      $81507.18    $41550.93\n",
              "2119907         Long Island          Nassau  ...      $20980.97     $4096.44\n",
              "1269180       New York City           Kings  ...      $12665.06     $3662.29\n",
              "\n",
              "[5 rows x 37 columns]"
            ]
          },
          "metadata": {
            "tags": []
          },
          "execution_count": 27
        }
      ]
    },
    {
      "cell_type": "markdown",
      "metadata": {
        "id": "Y-Swzyi0PUAP"
      },
      "source": [
        "# Khám phá dữ liệu"
      ]
    },
    {
      "cell_type": "code",
      "metadata": {
        "id": "LT6UrF6hc-u1",
        "colab": {
          "base_uri": "https://localhost:8080/"
        },
        "outputId": "c955d6fc-0ea4-428a-976a-063bcb2d0488"
      },
      "source": [
        "df.shape"
      ],
      "execution_count": 28,
      "outputs": [
        {
          "output_type": "execute_result",
          "data": {
            "text/plain": [
              "(2346760, 37)"
            ]
          },
          "metadata": {
            "tags": []
          },
          "execution_count": 28
        }
      ]
    },
    {
      "cell_type": "markdown",
      "metadata": {
        "id": "XJUzQLh2ZG0I"
      },
      "source": [
        "Tập dữ liệu có 2 346 760 mẫu với 37 thuộc tính, trong đó có 3 thuộc tính không có trong bộ dữ liệu gốc được  đó là Attending Provider License Number, Operating Provider License Number và Other Provider License Number.  "
      ]
    },
    {
      "cell_type": "markdown",
      "metadata": {
        "id": "abRQp_dePHcJ"
      },
      "source": [
        "## Chi tiết thuộc tính"
      ]
    },
    {
      "cell_type": "markdown",
      "metadata": {
        "id": "qsQFtwW4n-D6"
      },
      "source": [
        "| Thuộc tính | Mô tả\n",
        "|:-:|:-\n",
        "| Health Service Area | vị trí bệnh viện (Capital / Adirondack, Central NY, Finger Lakes, Hudson Valley,...)\n",
        "| Hospital County |  tên quận nơi đặt bệnh viện. \n",
        "|Facility Id | ID cơ sở y tế\n",
        "|Facility Name | tên cơ sở y tế\n",
        "|Age Group | nhóm tuổi của bệnh nhân, được tính tại thời điểm xuất viện( $\\leq$ 17, 18-29, 30-49, 50-69 và $\\geq$ 70)\n",
        "|Zip Code - 3 digits | 3 chữ số đầu tiên của mã bưu chính của bệnh nhân\n",
        "|Gender | giới tính\n",
        "|Race | chủng tộc (Black/African, American, ...)\n",
        "|Ethnicity  | dân tộc \n",
        "|Length of Stay  | số ngày từ ngày nhập viện-xuất viện, tối đa 120 ngày\n",
        "|Type of Admission  | hình thức nhập viện (tự chọn, cấp cứu, ...)\n",
        "|Patient Disposition |  tình trạng bệnh nhân khi xuất viện\n",
        "|Discharge Year  | năm xuất viện  \n",
        "|CCS Diagnosis Code   |  mã chẩn đoán phân loại lâm sàn CCS \n",
        "|CCS Diagnosis Description  | mô tả danh mục chẩn đoán lâm sàn CCS \n",
        "|CCS Procedure Code  |  mã thủ tục CCS  \n",
        "|CCS Procedure Description  | mô tả thủ tục CCS \n",
        "|APR DRG Code | mã APR DRG (all patient refinded diagnosis related group)\n",
        "|APR DRG Description  | mô tả mã phân loại APR DRG \n",
        "|APR MDC Code | mã phân loại APR MDC  (all patient refind major |diagnostic category)\n",
        "|APR MDC Description  |  mô tả phân loại APR MDC\n",
        "|APR Severity of Illness Code | mã mức độ nghiêm trọng của bệnh tật chuẩn APR-DRG \n",
        "|APR Severity of Illness Description | mô tả mức độ nghiêm trọng của bệnh \n",
        "|APR Risk of Mortality   |  nguy cơ tử vong (nhỏ :1, vừa 2: lớn:3 , khẩn cấp:4)\n",
        "|APR Medical Surgical Description | mô tả APR-DRG về phẫu thuật, y tế,...\n",
        "|Payment Typology x  |  hình thức thanh toán x\n",
        "|Operating Certificate Number| giấy phép hoạt động của cơ sở y tế\n",
        "|Attending Provider License Number | giấy phép tham gia\n",
        "|Operating Provider License Number  | giấy phép vận hành\n",
        "|Other Provider License Number | một số giấy phép khác\n",
        "|Birth Weight  |  trọng lượng lúc mới sinh, tính bằng gam\n",
        "|Abortion Edit Indicator   | cho biết lúc xuất viện có dấu hiệu thực hiện phá thai hay không\n",
        "|Emergency Department Indicator  | chỉ báo khoa cấp cứu (nếu có mã của bộ phận cấp cứu 045X thì sẽ đặt là Y, ngược lại N)\n",
        "|Total Charges  | tổng viện phí \n",
        "|Total Costs  | tổng chi phí|\n"
      ]
    },
    {
      "cell_type": "markdown",
      "metadata": {
        "id": "FMAkwEXcDGpA"
      },
      "source": [
        "**Chú thích** \\\\\n",
        "  - [APR DRG](https://www.hcup-us.ahrq.gov/db/nation/nis/APR-DRGsV20MethodologyOverviewandBibliography.pdf)\n",
        "  - [APR MDC](https://en.wikipedia.org/wiki/Major_Diagnostic_Category)\n",
        "\n",
        "    *Đối với các vụ phá thai, hồ sơ sẽ để trống nhiều chi tiết như khu vực, cơ sở thực hiện, ...*"
      ]
    },
    {
      "cell_type": "markdown",
      "metadata": {
        "id": "39Bw3kLJPNVt"
      },
      "source": [
        "## Dữ liệu khuyết"
      ]
    },
    {
      "cell_type": "code",
      "metadata": {
        "colab": {
          "base_uri": "https://localhost:8080/"
        },
        "id": "Ej9rmwkDgDFg",
        "outputId": "f642df85-145e-44be-958c-cd46a9440634"
      },
      "source": [
        "df.isna().sum()"
      ],
      "execution_count": 29,
      "outputs": [
        {
          "output_type": "execute_result",
          "data": {
            "text/plain": [
              "Health Service Area                       2911\n",
              "Hospital County                           2911\n",
              "Operating Certificate Number              2911\n",
              "Facility Id                               2911\n",
              "Facility Name                                0\n",
              "Age Group                                    0\n",
              "Zip Code - 3 digits                       4427\n",
              "Gender                                       0\n",
              "Race                                         0\n",
              "Ethnicity                                    0\n",
              "Length of Stay                               0\n",
              "Type of Admission                            0\n",
              "Patient Disposition                          0\n",
              "Discharge Year                               0\n",
              "CCS Diagnosis Code                           0\n",
              "CCS Diagnosis Description                    0\n",
              "CCS Procedure Code                           0\n",
              "CCS Procedure Description                    0\n",
              "APR DRG Code                                 0\n",
              "APR DRG Description                          0\n",
              "APR MDC Code                                 0\n",
              "APR MDC Description                          0\n",
              "APR Severity of Illness Code                 0\n",
              "APR Severity of Illness Description        112\n",
              "APR Risk of Mortality                      112\n",
              "APR Medical Surgical Description             0\n",
              "Payment Typology 1                           0\n",
              "Payment Typology 2                      762346\n",
              "Payment Typology 3                     1645570\n",
              "Attending Provider License Number         2911\n",
              "Operating Provider License Number       612848\n",
              "Other Provider License Number          2275424\n",
              "Birth Weight                                 0\n",
              "Abortion Edit Indicator                      0\n",
              "Emergency Department Indicator               0\n",
              "Total Charges                                0\n",
              "Total Costs                                  0\n",
              "dtype: int64"
            ]
          },
          "metadata": {
            "tags": []
          },
          "execution_count": 29
        }
      ]
    },
    {
      "cell_type": "markdown",
      "metadata": {
        "id": "SMMA5sMt9h-N"
      },
      "source": [
        "Dữ liệu bị khuyết ở các cột \\\\\n",
        "- Health Service Area\n",
        "- Hospital County\n",
        "- Operating Certificate Number\n",
        "- Facility Id, Zip Code - 3 digits\n",
        "- APR Severity of Illness Description\n",
        "- APR Risk of Mortality\n",
        "- Payment Typology 2\n",
        "- Payment Typology 3\n",
        "- Attending Provider License Number\n",
        "- Operating Provider License Number\n",
        "- Other Provider License Number\n"
      ]
    },
    {
      "cell_type": "markdown",
      "metadata": {
        "id": "bwosrBdDy73H"
      },
      "source": [
        "## Kiểu dữ liệu mỗi cột"
      ]
    },
    {
      "cell_type": "code",
      "metadata": {
        "colab": {
          "base_uri": "https://localhost:8080/"
        },
        "id": "zhbOiFbsaRT1",
        "outputId": "e44144b2-e6e2-48b0-95b1-c6742c5ce667"
      },
      "source": [
        "df.info()"
      ],
      "execution_count": 30,
      "outputs": [
        {
          "output_type": "stream",
          "text": [
            "<class 'pandas.core.frame.DataFrame'>\n",
            "RangeIndex: 2346760 entries, 0 to 2346759\n",
            "Data columns (total 37 columns):\n",
            " #   Column                               Dtype  \n",
            "---  ------                               -----  \n",
            " 0   Health Service Area                  object \n",
            " 1   Hospital County                      object \n",
            " 2   Operating Certificate Number         float64\n",
            " 3   Facility Id                          float64\n",
            " 4   Facility Name                        object \n",
            " 5   Age Group                            object \n",
            " 6   Zip Code - 3 digits                  object \n",
            " 7   Gender                               object \n",
            " 8   Race                                 object \n",
            " 9   Ethnicity                            object \n",
            " 10  Length of Stay                       object \n",
            " 11  Type of Admission                    object \n",
            " 12  Patient Disposition                  object \n",
            " 13  Discharge Year                       int64  \n",
            " 14  CCS Diagnosis Code                   int64  \n",
            " 15  CCS Diagnosis Description            object \n",
            " 16  CCS Procedure Code                   int64  \n",
            " 17  CCS Procedure Description            object \n",
            " 18  APR DRG Code                         int64  \n",
            " 19  APR DRG Description                  object \n",
            " 20  APR MDC Code                         int64  \n",
            " 21  APR MDC Description                  object \n",
            " 22  APR Severity of Illness Code         int64  \n",
            " 23  APR Severity of Illness Description  object \n",
            " 24  APR Risk of Mortality                object \n",
            " 25  APR Medical Surgical Description     object \n",
            " 26  Payment Typology 1                   object \n",
            " 27  Payment Typology 2                   object \n",
            " 28  Payment Typology 3                   object \n",
            " 29  Attending Provider License Number    float64\n",
            " 30  Operating Provider License Number    float64\n",
            " 31  Other Provider License Number        float64\n",
            " 32  Birth Weight                         int64  \n",
            " 33  Abortion Edit Indicator              object \n",
            " 34  Emergency Department Indicator       object \n",
            " 35  Total Charges                        object \n",
            " 36  Total Costs                          object \n",
            "dtypes: float64(5), int64(7), object(25)\n",
            "memory usage: 662.5+ MB\n"
          ],
          "name": "stdout"
        }
      ]
    },
    {
      "cell_type": "code",
      "metadata": {
        "colab": {
          "base_uri": "https://localhost:8080/",
          "height": 228
        },
        "id": "PtbqBpiTVOeI",
        "outputId": "812ca56f-ee2c-467c-81db-3a1602898581"
      },
      "source": [
        "nume_feature = df.select_dtypes(exclude='object')\n",
        "nume_feature.sample(5)"
      ],
      "execution_count": 31,
      "outputs": [
        {
          "output_type": "execute_result",
          "data": {
            "text/html": [
              "<div>\n",
              "<style scoped>\n",
              "    .dataframe tbody tr th:only-of-type {\n",
              "        vertical-align: middle;\n",
              "    }\n",
              "\n",
              "    .dataframe tbody tr th {\n",
              "        vertical-align: top;\n",
              "    }\n",
              "\n",
              "    .dataframe thead th {\n",
              "        text-align: right;\n",
              "    }\n",
              "</style>\n",
              "<table border=\"1\" class=\"dataframe\">\n",
              "  <thead>\n",
              "    <tr style=\"text-align: right;\">\n",
              "      <th></th>\n",
              "      <th>Operating Certificate Number</th>\n",
              "      <th>Facility Id</th>\n",
              "      <th>Discharge Year</th>\n",
              "      <th>CCS Diagnosis Code</th>\n",
              "      <th>CCS Procedure Code</th>\n",
              "      <th>APR DRG Code</th>\n",
              "      <th>APR MDC Code</th>\n",
              "      <th>APR Severity of Illness Code</th>\n",
              "      <th>Attending Provider License Number</th>\n",
              "      <th>Operating Provider License Number</th>\n",
              "      <th>Other Provider License Number</th>\n",
              "      <th>Birth Weight</th>\n",
              "    </tr>\n",
              "  </thead>\n",
              "  <tbody>\n",
              "    <tr>\n",
              "      <th>322475</th>\n",
              "      <td>301001.0</td>\n",
              "      <td>43.0</td>\n",
              "      <td>2015</td>\n",
              "      <td>95</td>\n",
              "      <td>0</td>\n",
              "      <td>58</td>\n",
              "      <td>1</td>\n",
              "      <td>3</td>\n",
              "      <td>249434.0</td>\n",
              "      <td>NaN</td>\n",
              "      <td>NaN</td>\n",
              "      <td>0</td>\n",
              "    </tr>\n",
              "    <tr>\n",
              "      <th>2132081</th>\n",
              "      <td>2950002.0</td>\n",
              "      <td>528.0</td>\n",
              "      <td>2015</td>\n",
              "      <td>102</td>\n",
              "      <td>203</td>\n",
              "      <td>198</td>\n",
              "      <td>5</td>\n",
              "      <td>2</td>\n",
              "      <td>222396.0</td>\n",
              "      <td>242449.0</td>\n",
              "      <td>NaN</td>\n",
              "      <td>0</td>\n",
              "    </tr>\n",
              "    <tr>\n",
              "      <th>2154150</th>\n",
              "      <td>2951001.0</td>\n",
              "      <td>541.0</td>\n",
              "      <td>2015</td>\n",
              "      <td>102</td>\n",
              "      <td>47</td>\n",
              "      <td>192</td>\n",
              "      <td>5</td>\n",
              "      <td>1</td>\n",
              "      <td>176223.0</td>\n",
              "      <td>177108.0</td>\n",
              "      <td>NaN</td>\n",
              "      <td>0</td>\n",
              "    </tr>\n",
              "    <tr>\n",
              "      <th>98032</th>\n",
              "      <td>1401013.0</td>\n",
              "      <td>218.0</td>\n",
              "      <td>2015</td>\n",
              "      <td>193</td>\n",
              "      <td>137</td>\n",
              "      <td>560</td>\n",
              "      <td>14</td>\n",
              "      <td>1</td>\n",
              "      <td>224648.0</td>\n",
              "      <td>243709.0</td>\n",
              "      <td>NaN</td>\n",
              "      <td>0</td>\n",
              "    </tr>\n",
              "    <tr>\n",
              "      <th>258177</th>\n",
              "      <td>2701005.0</td>\n",
              "      <td>413.0</td>\n",
              "      <td>2015</td>\n",
              "      <td>233</td>\n",
              "      <td>171</td>\n",
              "      <td>55</td>\n",
              "      <td>1</td>\n",
              "      <td>1</td>\n",
              "      <td>261225.0</td>\n",
              "      <td>271863.0</td>\n",
              "      <td>NaN</td>\n",
              "      <td>0</td>\n",
              "    </tr>\n",
              "  </tbody>\n",
              "</table>\n",
              "</div>"
            ],
            "text/plain": [
              "         Operating Certificate Number  ...  Birth Weight\n",
              "322475                       301001.0  ...             0\n",
              "2132081                     2950002.0  ...             0\n",
              "2154150                     2951001.0  ...             0\n",
              "98032                       1401013.0  ...             0\n",
              "258177                      2701005.0  ...             0\n",
              "\n",
              "[5 rows x 12 columns]"
            ]
          },
          "metadata": {
            "tags": []
          },
          "execution_count": 31
        }
      ]
    },
    {
      "cell_type": "code",
      "metadata": {
        "colab": {
          "base_uri": "https://localhost:8080/",
          "height": 493
        },
        "id": "8aW1BbFPV3aq",
        "outputId": "5f0271ed-75e1-48d5-fcb9-b23ed2b8c294"
      },
      "source": [
        "cate_feature = df.select_dtypes(include='object')\n",
        "cate_feature.sample(3)"
      ],
      "execution_count": 32,
      "outputs": [
        {
          "output_type": "execute_result",
          "data": {
            "text/html": [
              "<div>\n",
              "<style scoped>\n",
              "    .dataframe tbody tr th:only-of-type {\n",
              "        vertical-align: middle;\n",
              "    }\n",
              "\n",
              "    .dataframe tbody tr th {\n",
              "        vertical-align: top;\n",
              "    }\n",
              "\n",
              "    .dataframe thead th {\n",
              "        text-align: right;\n",
              "    }\n",
              "</style>\n",
              "<table border=\"1\" class=\"dataframe\">\n",
              "  <thead>\n",
              "    <tr style=\"text-align: right;\">\n",
              "      <th></th>\n",
              "      <th>Health Service Area</th>\n",
              "      <th>Hospital County</th>\n",
              "      <th>Facility Name</th>\n",
              "      <th>Age Group</th>\n",
              "      <th>Zip Code - 3 digits</th>\n",
              "      <th>Gender</th>\n",
              "      <th>Race</th>\n",
              "      <th>Ethnicity</th>\n",
              "      <th>Length of Stay</th>\n",
              "      <th>Type of Admission</th>\n",
              "      <th>Patient Disposition</th>\n",
              "      <th>CCS Diagnosis Description</th>\n",
              "      <th>CCS Procedure Description</th>\n",
              "      <th>APR DRG Description</th>\n",
              "      <th>APR MDC Description</th>\n",
              "      <th>APR Severity of Illness Description</th>\n",
              "      <th>APR Risk of Mortality</th>\n",
              "      <th>APR Medical Surgical Description</th>\n",
              "      <th>Payment Typology 1</th>\n",
              "      <th>Payment Typology 2</th>\n",
              "      <th>Payment Typology 3</th>\n",
              "      <th>Abortion Edit Indicator</th>\n",
              "      <th>Emergency Department Indicator</th>\n",
              "      <th>Total Charges</th>\n",
              "      <th>Total Costs</th>\n",
              "    </tr>\n",
              "  </thead>\n",
              "  <tbody>\n",
              "    <tr>\n",
              "      <th>2082104</th>\n",
              "      <td>Long Island</td>\n",
              "      <td>Nassau</td>\n",
              "      <td>Mercy Medical Center</td>\n",
              "      <td>0 to 17</td>\n",
              "      <td>115</td>\n",
              "      <td>F</td>\n",
              "      <td>Other Race</td>\n",
              "      <td>Spanish/Hispanic</td>\n",
              "      <td>7</td>\n",
              "      <td>Newborn</td>\n",
              "      <td>Home or Self Care</td>\n",
              "      <td>Liveborn</td>\n",
              "      <td>OTHER THERAPEUTIC PRCS</td>\n",
              "      <td>Neonate birthwt &gt;2499g w congenital/perinatal infection</td>\n",
              "      <td>Newborns and Other Neonates with Conditions Originating in the Perinatal Period</td>\n",
              "      <td>Minor</td>\n",
              "      <td>Minor</td>\n",
              "      <td>Medical</td>\n",
              "      <td>Medicaid</td>\n",
              "      <td>Medicaid</td>\n",
              "      <td>Medicaid</td>\n",
              "      <td>N</td>\n",
              "      <td>N</td>\n",
              "      <td>$48144.00</td>\n",
              "      <td>$14403.92</td>\n",
              "    </tr>\n",
              "    <tr>\n",
              "      <th>2210744</th>\n",
              "      <td>Long Island</td>\n",
              "      <td>Nassau</td>\n",
              "      <td>St Francis Hospital</td>\n",
              "      <td>50 to 69</td>\n",
              "      <td>117</td>\n",
              "      <td>F</td>\n",
              "      <td>White</td>\n",
              "      <td>Not Span/Hispanic</td>\n",
              "      <td>6</td>\n",
              "      <td>Emergency</td>\n",
              "      <td>Home w/ Home Health Services</td>\n",
              "      <td>Chronic obstructive pulmonary disease and bronchiectasis</td>\n",
              "      <td>NO PROC</td>\n",
              "      <td>Chronic obstructive pulmonary disease</td>\n",
              "      <td>Diseases and Disorders of the Respiratory System</td>\n",
              "      <td>Major</td>\n",
              "      <td>Moderate</td>\n",
              "      <td>Medical</td>\n",
              "      <td>Medicaid</td>\n",
              "      <td>NaN</td>\n",
              "      <td>NaN</td>\n",
              "      <td>N</td>\n",
              "      <td>Y</td>\n",
              "      <td>$54479.00</td>\n",
              "      <td>$10560.89</td>\n",
              "    </tr>\n",
              "    <tr>\n",
              "      <th>459493</th>\n",
              "      <td>Central NY</td>\n",
              "      <td>Onondaga</td>\n",
              "      <td>Crouse Hospital</td>\n",
              "      <td>30 to 49</td>\n",
              "      <td>130</td>\n",
              "      <td>F</td>\n",
              "      <td>Other Race</td>\n",
              "      <td>Not Span/Hispanic</td>\n",
              "      <td>11</td>\n",
              "      <td>Elective</td>\n",
              "      <td>Home or Self Care</td>\n",
              "      <td>Hemorrhage during pregnancy; abruptio placenta; placenta previa</td>\n",
              "      <td>CESAREAN SECTION</td>\n",
              "      <td>Cesarean delivery</td>\n",
              "      <td>Pregnancy, Childbirth and the Puerperium</td>\n",
              "      <td>Major</td>\n",
              "      <td>Moderate</td>\n",
              "      <td>Surgical</td>\n",
              "      <td>Blue Cross/Blue Shield</td>\n",
              "      <td>NaN</td>\n",
              "      <td>NaN</td>\n",
              "      <td>N</td>\n",
              "      <td>N</td>\n",
              "      <td>$23178.44</td>\n",
              "      <td>$11193.85</td>\n",
              "    </tr>\n",
              "  </tbody>\n",
              "</table>\n",
              "</div>"
            ],
            "text/plain": [
              "        Health Service Area Hospital County  ... Total Charges Total Costs\n",
              "2082104         Long Island          Nassau  ...     $48144.00   $14403.92\n",
              "2210744         Long Island          Nassau  ...     $54479.00   $10560.89\n",
              "459493           Central NY        Onondaga  ...     $23178.44   $11193.85\n",
              "\n",
              "[3 rows x 25 columns]"
            ]
          },
          "metadata": {
            "tags": []
          },
          "execution_count": 32
        }
      ]
    },
    {
      "cell_type": "markdown",
      "metadata": {
        "id": "NsNrL9ZVS-uH"
      },
      "source": [
        "- Cột Total Charges, Total Costs và Length of Stay nên có kiểu dữ liệu là numeric thay vì object\n",
        "- Cột Attending Provider License Number, Operating Provider License Number, Other Provider License Number nên có kiểu dữ liệu là object"
      ]
    },
    {
      "cell_type": "markdown",
      "metadata": {
        "id": "hYxfyvMEdeH6"
      },
      "source": [
        "# Chọn dữ liệu"
      ]
    },
    {
      "cell_type": "code",
      "metadata": {
        "id": "ggKZYRYHda1S"
      },
      "source": [
        "pd.set_option('display.max_colwidth', 200)\n",
        "def missing_ratio(df):\n",
        "    return round(df.isna().sum() * 100 / len(df), 2)\n",
        "def count(df):\n",
        "    return df.nunique()\n",
        "def value(df):\n",
        "    return dict((df.value_counts(normalize=True) * 100).round(2))\n"
      ],
      "execution_count": 33,
      "outputs": []
    },
    {
      "cell_type": "code",
      "metadata": {
        "colab": {
          "base_uri": "https://localhost:8080/",
          "height": 399
        },
        "id": "IUNHlk8qcAGt",
        "outputId": "3fa3b670-08cb-4046-f706-469a6320c9a6"
      },
      "source": [
        "nume_profile = nume_feature.describe().round(2)\n",
        "missing_inf = pd.DataFrame(df[nume_feature.columns].apply(missing_ratio), columns=[\"missing_ratio\"]).T\n",
        "nume_profile = pd.concat([nume_profile, missing_inf])\n",
        "nume_profile.T"
      ],
      "execution_count": 34,
      "outputs": [
        {
          "output_type": "execute_result",
          "data": {
            "text/html": [
              "<div>\n",
              "<style scoped>\n",
              "    .dataframe tbody tr th:only-of-type {\n",
              "        vertical-align: middle;\n",
              "    }\n",
              "\n",
              "    .dataframe tbody tr th {\n",
              "        vertical-align: top;\n",
              "    }\n",
              "\n",
              "    .dataframe thead th {\n",
              "        text-align: right;\n",
              "    }\n",
              "</style>\n",
              "<table border=\"1\" class=\"dataframe\">\n",
              "  <thead>\n",
              "    <tr style=\"text-align: right;\">\n",
              "      <th></th>\n",
              "      <th>count</th>\n",
              "      <th>mean</th>\n",
              "      <th>std</th>\n",
              "      <th>min</th>\n",
              "      <th>25%</th>\n",
              "      <th>50%</th>\n",
              "      <th>75%</th>\n",
              "      <th>max</th>\n",
              "      <th>missing_ratio</th>\n",
              "    </tr>\n",
              "  </thead>\n",
              "  <tbody>\n",
              "    <tr>\n",
              "      <th>Operating Certificate Number</th>\n",
              "      <td>2343849.0</td>\n",
              "      <td>5007195.96</td>\n",
              "      <td>2259459.70</td>\n",
              "      <td>101000.0</td>\n",
              "      <td>2951001.0</td>\n",
              "      <td>5907001.0</td>\n",
              "      <td>7002012.0</td>\n",
              "      <td>7004010.0</td>\n",
              "      <td>0.12</td>\n",
              "    </tr>\n",
              "    <tr>\n",
              "      <th>Facility Id</th>\n",
              "      <td>2343849.0</td>\n",
              "      <td>1043.33</td>\n",
              "      <td>713.41</td>\n",
              "      <td>1.0</td>\n",
              "      <td>541.0</td>\n",
              "      <td>1099.0</td>\n",
              "      <td>1450.0</td>\n",
              "      <td>9431.0</td>\n",
              "      <td>0.12</td>\n",
              "    </tr>\n",
              "    <tr>\n",
              "      <th>Discharge Year</th>\n",
              "      <td>2346760.0</td>\n",
              "      <td>2015.00</td>\n",
              "      <td>0.00</td>\n",
              "      <td>2015.0</td>\n",
              "      <td>2015.0</td>\n",
              "      <td>2015.0</td>\n",
              "      <td>2015.0</td>\n",
              "      <td>2015.0</td>\n",
              "      <td>0.00</td>\n",
              "    </tr>\n",
              "    <tr>\n",
              "      <th>CCS Diagnosis Code</th>\n",
              "      <td>2346760.0</td>\n",
              "      <td>190.55</td>\n",
              "      <td>159.61</td>\n",
              "      <td>1.0</td>\n",
              "      <td>106.0</td>\n",
              "      <td>159.0</td>\n",
              "      <td>218.0</td>\n",
              "      <td>917.0</td>\n",
              "      <td>0.00</td>\n",
              "    </tr>\n",
              "    <tr>\n",
              "      <th>CCS Procedure Code</th>\n",
              "      <td>2346760.0</td>\n",
              "      <td>112.78</td>\n",
              "      <td>88.94</td>\n",
              "      <td>0.0</td>\n",
              "      <td>0.0</td>\n",
              "      <td>132.0</td>\n",
              "      <td>216.0</td>\n",
              "      <td>999.0</td>\n",
              "      <td>0.00</td>\n",
              "    </tr>\n",
              "    <tr>\n",
              "      <th>APR DRG Code</th>\n",
              "      <td>2346760.0</td>\n",
              "      <td>418.11</td>\n",
              "      <td>241.34</td>\n",
              "      <td>1.0</td>\n",
              "      <td>201.0</td>\n",
              "      <td>383.0</td>\n",
              "      <td>640.0</td>\n",
              "      <td>956.0</td>\n",
              "      <td>0.00</td>\n",
              "    </tr>\n",
              "    <tr>\n",
              "      <th>APR MDC Code</th>\n",
              "      <td>2346760.0</td>\n",
              "      <td>10.43</td>\n",
              "      <td>5.92</td>\n",
              "      <td>0.0</td>\n",
              "      <td>5.0</td>\n",
              "      <td>9.0</td>\n",
              "      <td>15.0</td>\n",
              "      <td>25.0</td>\n",
              "      <td>0.00</td>\n",
              "    </tr>\n",
              "    <tr>\n",
              "      <th>APR Severity of Illness Code</th>\n",
              "      <td>2346760.0</td>\n",
              "      <td>2.01</td>\n",
              "      <td>0.90</td>\n",
              "      <td>0.0</td>\n",
              "      <td>1.0</td>\n",
              "      <td>2.0</td>\n",
              "      <td>3.0</td>\n",
              "      <td>4.0</td>\n",
              "      <td>0.00</td>\n",
              "    </tr>\n",
              "    <tr>\n",
              "      <th>Attending Provider License Number</th>\n",
              "      <td>2343849.0</td>\n",
              "      <td>2176429.35</td>\n",
              "      <td>12017470.14</td>\n",
              "      <td>615.0</td>\n",
              "      <td>192318.0</td>\n",
              "      <td>229495.0</td>\n",
              "      <td>257913.0</td>\n",
              "      <td>90999999.0</td>\n",
              "      <td>0.12</td>\n",
              "    </tr>\n",
              "    <tr>\n",
              "      <th>Operating Provider License Number</th>\n",
              "      <td>1733912.0</td>\n",
              "      <td>2528762.91</td>\n",
              "      <td>12906878.40</td>\n",
              "      <td>71.0</td>\n",
              "      <td>185515.0</td>\n",
              "      <td>223062.0</td>\n",
              "      <td>253416.0</td>\n",
              "      <td>90999999.0</td>\n",
              "      <td>26.11</td>\n",
              "    </tr>\n",
              "    <tr>\n",
              "      <th>Other Provider License Number</th>\n",
              "      <td>71336.0</td>\n",
              "      <td>12972068.28</td>\n",
              "      <td>29916952.57</td>\n",
              "      <td>1307.0</td>\n",
              "      <td>183576.0</td>\n",
              "      <td>227145.0</td>\n",
              "      <td>263416.0</td>\n",
              "      <td>90602218.0</td>\n",
              "      <td>96.96</td>\n",
              "    </tr>\n",
              "    <tr>\n",
              "      <th>Birth Weight</th>\n",
              "      <td>2346760.0</td>\n",
              "      <td>326.43</td>\n",
              "      <td>1000.15</td>\n",
              "      <td>0.0</td>\n",
              "      <td>0.0</td>\n",
              "      <td>0.0</td>\n",
              "      <td>0.0</td>\n",
              "      <td>9900.0</td>\n",
              "      <td>0.00</td>\n",
              "    </tr>\n",
              "  </tbody>\n",
              "</table>\n",
              "</div>"
            ],
            "text/plain": [
              "                                       count  ...  missing_ratio\n",
              "Operating Certificate Number       2343849.0  ...           0.12\n",
              "Facility Id                        2343849.0  ...           0.12\n",
              "Discharge Year                     2346760.0  ...           0.00\n",
              "CCS Diagnosis Code                 2346760.0  ...           0.00\n",
              "CCS Procedure Code                 2346760.0  ...           0.00\n",
              "APR DRG Code                       2346760.0  ...           0.00\n",
              "APR MDC Code                       2346760.0  ...           0.00\n",
              "APR Severity of Illness Code       2346760.0  ...           0.00\n",
              "Attending Provider License Number  2343849.0  ...           0.12\n",
              "Operating Provider License Number  1733912.0  ...          26.11\n",
              "Other Provider License Number        71336.0  ...          96.96\n",
              "Birth Weight                       2346760.0  ...           0.00\n",
              "\n",
              "[12 rows x 9 columns]"
            ]
          },
          "metadata": {
            "tags": []
          },
          "execution_count": 34
        }
      ]
    },
    {
      "cell_type": "code",
      "metadata": {
        "colab": {
          "base_uri": "https://localhost:8080/",
          "height": 932
        },
        "id": "SVe4bH71nZ-c",
        "outputId": "1fa39c6c-b264-474a-9301-94717f65dfe9"
      },
      "source": [
        "cate_profile = cate_feature.agg([missing_ratio, count, value])\n",
        "cate_profile.T"
      ],
      "execution_count": 35,
      "outputs": [
        {
          "output_type": "execute_result",
          "data": {
            "text/html": [
              "<div>\n",
              "<style scoped>\n",
              "    .dataframe tbody tr th:only-of-type {\n",
              "        vertical-align: middle;\n",
              "    }\n",
              "\n",
              "    .dataframe tbody tr th {\n",
              "        vertical-align: top;\n",
              "    }\n",
              "\n",
              "    .dataframe thead th {\n",
              "        text-align: right;\n",
              "    }\n",
              "</style>\n",
              "<table border=\"1\" class=\"dataframe\">\n",
              "  <thead>\n",
              "    <tr style=\"text-align: right;\">\n",
              "      <th></th>\n",
              "      <th>missing_ratio</th>\n",
              "      <th>count</th>\n",
              "      <th>value</th>\n",
              "    </tr>\n",
              "  </thead>\n",
              "  <tbody>\n",
              "    <tr>\n",
              "      <th>Health Service Area</th>\n",
              "      <td>0.12</td>\n",
              "      <td>8</td>\n",
              "      <td>{'New York City': 46.6, 'Long Island': 14.48, 'Hudson Valley': 10.49, 'Capital/Adiron': 7.14, 'Western NY': 6.99, 'Central NY': 6.76, 'Finger Lakes': 6.25, 'Southern Tier': 1.29}</td>\n",
              "    </tr>\n",
              "    <tr>\n",
              "      <th>Hospital County</th>\n",
              "      <td>0.12</td>\n",
              "      <td>57</td>\n",
              "      <td>{'Manhattan': 17.11, 'Kings': 10.62, 'Queens': 8.41, 'Bronx': 8.03, 'Nassau': 7.73, 'Suffolk': 6.75, 'Erie': 5.14, 'Westchester': 5.09, 'Monroe': 4.49, 'Onondaga': 3.34, 'Albany': 2.8, 'Richmond':...</td>\n",
              "    </tr>\n",
              "    <tr>\n",
              "      <th>Facility Name</th>\n",
              "      <td>0</td>\n",
              "      <td>215</td>\n",
              "      <td>{'Mount Sinai Hospital': 2.38, 'North Shore University Hospital': 2.03, 'New York Presbyterian Hospital - Columbia Presbyterian Center': 2.02, 'New York Presbyterian Hospital - New York Weill Corn...</td>\n",
              "    </tr>\n",
              "    <tr>\n",
              "      <th>Age Group</th>\n",
              "      <td>0</td>\n",
              "      <td>5</td>\n",
              "      <td>{'50 to 69': 27.48, '70 or Older': 27.42, '30 to 49': 19.54, '0 to 17': 15.02, '18 to 29': 10.53}</td>\n",
              "    </tr>\n",
              "    <tr>\n",
              "      <th>Zip Code - 3 digits</th>\n",
              "      <td>0.19</td>\n",
              "      <td>50</td>\n",
              "      <td>{'112': 13.39, '104': 9.61, '117': 7.77, '100': 7.26, '113': 5.19, '114': 3.9, '115': 3.79, 'OOS': 2.87, '142': 2.82, '103': 2.66, '105': 2.64, '109': 2.53, '146': 2.4, '125': 1.98, '140': 1.87, '...</td>\n",
              "    </tr>\n",
              "    <tr>\n",
              "      <th>Gender</th>\n",
              "      <td>0</td>\n",
              "      <td>3</td>\n",
              "      <td>{'F': 55.72, 'M': 44.28, 'U': 0.0}</td>\n",
              "    </tr>\n",
              "    <tr>\n",
              "      <th>Race</th>\n",
              "      <td>0</td>\n",
              "      <td>4</td>\n",
              "      <td>{'White': 56.88, 'Other Race': 23.2, 'Black/African American': 18.96, 'Multi-racial': 0.95}</td>\n",
              "    </tr>\n",
              "    <tr>\n",
              "      <th>Ethnicity</th>\n",
              "      <td>0</td>\n",
              "      <td>4</td>\n",
              "      <td>{'Not Span/Hispanic': 83.28, 'Spanish/Hispanic': 11.87, 'Unknown': 4.47, 'Multi-ethnic': 0.37}</td>\n",
              "    </tr>\n",
              "    <tr>\n",
              "      <th>Length of Stay</th>\n",
              "      <td>0</td>\n",
              "      <td>219</td>\n",
              "      <td>{'2': 21.95, '3': 17.15, '1': 13.73, '4': 10.02, '5': 6.49, '6': 4.74, '7': 3.77, '8': 2.74, '9': 2.06, '10': 1.63, '11': 1.3, 2: 1.2, '12': 1.09, '13': 0.98, 3: 0.94, '14': 0.93, 1: 0.73, '15': 0...</td>\n",
              "    </tr>\n",
              "    <tr>\n",
              "      <th>Type of Admission</th>\n",
              "      <td>0</td>\n",
              "      <td>6</td>\n",
              "      <td>{'Emergency': 63.41, 'Elective': 19.06, 'Newborn': 9.68, 'Urgent': 7.53, 'Trauma': 0.27, 'Not Available': 0.05}</td>\n",
              "    </tr>\n",
              "    <tr>\n",
              "      <th>Patient Disposition</th>\n",
              "      <td>0</td>\n",
              "      <td>19</td>\n",
              "      <td>{'Home or Self Care': 66.99, 'Home w/ Home Health Services': 12.97, 'Skilled Nursing Home': 9.55, 'Expired': 2.17, 'Left Against Medical Advice': 2.01, 'Inpatient Rehabilitation Facility': 1.9, 'S...</td>\n",
              "    </tr>\n",
              "    <tr>\n",
              "      <th>CCS Diagnosis Description</th>\n",
              "      <td>0</td>\n",
              "      <td>263</td>\n",
              "      <td>{'Liveborn': 9.66, 'Septicemia (except in labor)': 4.63, 'Osteoarthritis': 2.7, 'Congestive heart failure; nonhypertensive': 2.5, 'Mood disorders': 2.43, 'Pneumonia (except that caused by tubercul...</td>\n",
              "    </tr>\n",
              "    <tr>\n",
              "      <th>CCS Procedure Description</th>\n",
              "      <td>0</td>\n",
              "      <td>232</td>\n",
              "      <td>{'NO PROC': 26.0, 'OTHER THERAPEUTIC PRCS': 7.48, 'OT PRCS TO ASSIST DELIV': 3.56, 'PROPHYLACTIC VAC/INOCUL': 3.45, 'CESAREAN SECTION': 3.19, 'RESP INTUB/MECH VENTIL': 3.16, 'ALCO/DRUG REHAB/DETOX...</td>\n",
              "    </tr>\n",
              "    <tr>\n",
              "      <th>APR DRG Description</th>\n",
              "      <td>0</td>\n",
              "      <td>316</td>\n",
              "      <td>{'Neonate birthwt &gt;2499g, normal newborn or neonate w other problem': 8.44, 'Vaginal delivery': 6.27, 'Septicemia &amp; disseminated infections': 4.05, 'Cesarean delivery': 3.24, 'Heart failure': 2.4,...</td>\n",
              "    </tr>\n",
              "    <tr>\n",
              "      <th>APR MDC Description</th>\n",
              "      <td>0</td>\n",
              "      <td>26</td>\n",
              "      <td>{'Diseases and Disorders of the Circulatory System': 12.34, 'Pregnancy, Childbirth and the Puerperium': 10.83, 'Newborns and Other Neonates with Conditions Originating in the Perinatal Period': 9....</td>\n",
              "    </tr>\n",
              "    <tr>\n",
              "      <th>APR Severity of Illness Description</th>\n",
              "      <td>0</td>\n",
              "      <td>4</td>\n",
              "      <td>{'Moderate': 38.24, 'Minor': 33.47, 'Major': 22.04, 'Extreme': 6.25}</td>\n",
              "    </tr>\n",
              "    <tr>\n",
              "      <th>APR Risk of Mortality</th>\n",
              "      <td>0</td>\n",
              "      <td>4</td>\n",
              "      <td>{'Minor': 59.22, 'Moderate': 21.31, 'Major': 14.29, 'Extreme': 5.19}</td>\n",
              "    </tr>\n",
              "    <tr>\n",
              "      <th>APR Medical Surgical Description</th>\n",
              "      <td>0</td>\n",
              "      <td>3</td>\n",
              "      <td>{'Medical': 75.83, 'Surgical': 24.17, 'Not Applicable': 0.0}</td>\n",
              "    </tr>\n",
              "    <tr>\n",
              "      <th>Payment Typology 1</th>\n",
              "      <td>0</td>\n",
              "      <td>10</td>\n",
              "      <td>{'Medicare': 37.34, 'Medicaid': 30.56, 'Private Health Insurance': 14.26, 'Blue Cross/Blue Shield': 11.74, 'Self-Pay': 2.89, 'Miscellaneous/Other': 1.24, 'Managed Care, Unspecified': 0.98, 'Federa...</td>\n",
              "    </tr>\n",
              "    <tr>\n",
              "      <th>Payment Typology 2</th>\n",
              "      <td>32.49</td>\n",
              "      <td>10</td>\n",
              "      <td>{'Medicaid': 35.01, 'Self-Pay': 23.11, 'Medicare': 21.26, 'Private Health Insurance': 10.2, 'Blue Cross/Blue Shield': 7.85, 'Miscellaneous/Other': 1.03, 'Federal/State/Local/VA': 0.68, 'Unknown': ...</td>\n",
              "    </tr>\n",
              "    <tr>\n",
              "      <th>Payment Typology 3</th>\n",
              "      <td>70.12</td>\n",
              "      <td>10</td>\n",
              "      <td>{'Self-Pay': 68.4, 'Medicaid': 17.77, 'Private Health Insurance': 4.97, 'Blue Cross/Blue Shield': 3.06, 'Medicare': 2.71, 'Unknown': 2.42, 'Federal/State/Local/VA': 0.47, 'Managed Care, Unspecifie...</td>\n",
              "    </tr>\n",
              "    <tr>\n",
              "      <th>Abortion Edit Indicator</th>\n",
              "      <td>0</td>\n",
              "      <td>2</td>\n",
              "      <td>{'N': 99.88, 'Y': 0.12}</td>\n",
              "    </tr>\n",
              "    <tr>\n",
              "      <th>Emergency Department Indicator</th>\n",
              "      <td>0</td>\n",
              "      <td>2</td>\n",
              "      <td>{'Y': 58.34, 'N': 41.66}</td>\n",
              "    </tr>\n",
              "    <tr>\n",
              "      <th>Total Charges</th>\n",
              "      <td>0</td>\n",
              "      <td>1787435</td>\n",
              "      <td>{'$9973.90': 0.06, '$8375.20': 0.04, '$4285.44': 0.03, '$4376.42': 0.03, '$10575.90': 0.03, '$14333.90': 0.02, '$4454.33': 0.02, '$3278.00': 0.02, '$8821.95': 0.02, '$5988.81': 0.02, '$7885.00': 0...</td>\n",
              "    </tr>\n",
              "    <tr>\n",
              "      <th>Total Costs</th>\n",
              "      <td>0</td>\n",
              "      <td>1528255</td>\n",
              "      <td>{'$1046.14': 0.06, '$1712.33': 0.04, '$3061.21': 0.03, '$4216.68': 0.03, '$1146.07': 0.03, '$1456.81': 0.02, '$1297.95': 0.02, '$2016.97': 0.02, '$1716.17': 0.02, '$2025.33': 0.02, '$1684.61': 0.0...</td>\n",
              "    </tr>\n",
              "  </tbody>\n",
              "</table>\n",
              "</div>"
            ],
            "text/plain": [
              "                                    missing_ratio  ...                                                                                                                                                                                                    value\n",
              "Health Service Area                          0.12  ...                       {'New York City': 46.6, 'Long Island': 14.48, 'Hudson Valley': 10.49, 'Capital/Adiron': 7.14, 'Western NY': 6.99, 'Central NY': 6.76, 'Finger Lakes': 6.25, 'Southern Tier': 1.29}\n",
              "Hospital County                              0.12  ...  {'Manhattan': 17.11, 'Kings': 10.62, 'Queens': 8.41, 'Bronx': 8.03, 'Nassau': 7.73, 'Suffolk': 6.75, 'Erie': 5.14, 'Westchester': 5.09, 'Monroe': 4.49, 'Onondaga': 3.34, 'Albany': 2.8, 'Richmond':...\n",
              "Facility Name                                   0  ...  {'Mount Sinai Hospital': 2.38, 'North Shore University Hospital': 2.03, 'New York Presbyterian Hospital - Columbia Presbyterian Center': 2.02, 'New York Presbyterian Hospital - New York Weill Corn...\n",
              "Age Group                                       0  ...                                                                                                        {'50 to 69': 27.48, '70 or Older': 27.42, '30 to 49': 19.54, '0 to 17': 15.02, '18 to 29': 10.53}\n",
              "Zip Code - 3 digits                          0.19  ...  {'112': 13.39, '104': 9.61, '117': 7.77, '100': 7.26, '113': 5.19, '114': 3.9, '115': 3.79, 'OOS': 2.87, '142': 2.82, '103': 2.66, '105': 2.64, '109': 2.53, '146': 2.4, '125': 1.98, '140': 1.87, '...\n",
              "Gender                                          0  ...                                                                                                                                                                       {'F': 55.72, 'M': 44.28, 'U': 0.0}\n",
              "Race                                            0  ...                                                                                                              {'White': 56.88, 'Other Race': 23.2, 'Black/African American': 18.96, 'Multi-racial': 0.95}\n",
              "Ethnicity                                       0  ...                                                                                                           {'Not Span/Hispanic': 83.28, 'Spanish/Hispanic': 11.87, 'Unknown': 4.47, 'Multi-ethnic': 0.37}\n",
              "Length of Stay                                  0  ...  {'2': 21.95, '3': 17.15, '1': 13.73, '4': 10.02, '5': 6.49, '6': 4.74, '7': 3.77, '8': 2.74, '9': 2.06, '10': 1.63, '11': 1.3, 2: 1.2, '12': 1.09, '13': 0.98, 3: 0.94, '14': 0.93, 1: 0.73, '15': 0...\n",
              "Type of Admission                               0  ...                                                                                          {'Emergency': 63.41, 'Elective': 19.06, 'Newborn': 9.68, 'Urgent': 7.53, 'Trauma': 0.27, 'Not Available': 0.05}\n",
              "Patient Disposition                             0  ...  {'Home or Self Care': 66.99, 'Home w/ Home Health Services': 12.97, 'Skilled Nursing Home': 9.55, 'Expired': 2.17, 'Left Against Medical Advice': 2.01, 'Inpatient Rehabilitation Facility': 1.9, 'S...\n",
              "CCS Diagnosis Description                       0  ...  {'Liveborn': 9.66, 'Septicemia (except in labor)': 4.63, 'Osteoarthritis': 2.7, 'Congestive heart failure; nonhypertensive': 2.5, 'Mood disorders': 2.43, 'Pneumonia (except that caused by tubercul...\n",
              "CCS Procedure Description                       0  ...  {'NO PROC': 26.0, 'OTHER THERAPEUTIC PRCS': 7.48, 'OT PRCS TO ASSIST DELIV': 3.56, 'PROPHYLACTIC VAC/INOCUL': 3.45, 'CESAREAN SECTION': 3.19, 'RESP INTUB/MECH VENTIL': 3.16, 'ALCO/DRUG REHAB/DETOX...\n",
              "APR DRG Description                             0  ...  {'Neonate birthwt >2499g, normal newborn or neonate w other problem': 8.44, 'Vaginal delivery': 6.27, 'Septicemia & disseminated infections': 4.05, 'Cesarean delivery': 3.24, 'Heart failure': 2.4,...\n",
              "APR MDC Description                             0  ...  {'Diseases and Disorders of the Circulatory System': 12.34, 'Pregnancy, Childbirth and the Puerperium': 10.83, 'Newborns and Other Neonates with Conditions Originating in the Perinatal Period': 9....\n",
              "APR Severity of Illness Description             0  ...                                                                                                                                     {'Moderate': 38.24, 'Minor': 33.47, 'Major': 22.04, 'Extreme': 6.25}\n",
              "APR Risk of Mortality                           0  ...                                                                                                                                     {'Minor': 59.22, 'Moderate': 21.31, 'Major': 14.29, 'Extreme': 5.19}\n",
              "APR Medical Surgical Description                0  ...                                                                                                                                             {'Medical': 75.83, 'Surgical': 24.17, 'Not Applicable': 0.0}\n",
              "Payment Typology 1                              0  ...  {'Medicare': 37.34, 'Medicaid': 30.56, 'Private Health Insurance': 14.26, 'Blue Cross/Blue Shield': 11.74, 'Self-Pay': 2.89, 'Miscellaneous/Other': 1.24, 'Managed Care, Unspecified': 0.98, 'Federa...\n",
              "Payment Typology 2                          32.49  ...  {'Medicaid': 35.01, 'Self-Pay': 23.11, 'Medicare': 21.26, 'Private Health Insurance': 10.2, 'Blue Cross/Blue Shield': 7.85, 'Miscellaneous/Other': 1.03, 'Federal/State/Local/VA': 0.68, 'Unknown': ...\n",
              "Payment Typology 3                          70.12  ...  {'Self-Pay': 68.4, 'Medicaid': 17.77, 'Private Health Insurance': 4.97, 'Blue Cross/Blue Shield': 3.06, 'Medicare': 2.71, 'Unknown': 2.42, 'Federal/State/Local/VA': 0.47, 'Managed Care, Unspecifie...\n",
              "Abortion Edit Indicator                         0  ...                                                                                                                                                                                  {'N': 99.88, 'Y': 0.12}\n",
              "Emergency Department Indicator                  0  ...                                                                                                                                                                                 {'Y': 58.34, 'N': 41.66}\n",
              "Total Charges                                   0  ...  {'$9973.90': 0.06, '$8375.20': 0.04, '$4285.44': 0.03, '$4376.42': 0.03, '$10575.90': 0.03, '$14333.90': 0.02, '$4454.33': 0.02, '$3278.00': 0.02, '$8821.95': 0.02, '$5988.81': 0.02, '$7885.00': 0...\n",
              "Total Costs                                     0  ...  {'$1046.14': 0.06, '$1712.33': 0.04, '$3061.21': 0.03, '$4216.68': 0.03, '$1146.07': 0.03, '$1456.81': 0.02, '$1297.95': 0.02, '$2016.97': 0.02, '$1716.17': 0.02, '$2025.33': 0.02, '$1684.61': 0.0...\n",
              "\n",
              "[25 rows x 3 columns]"
            ]
          },
          "metadata": {
            "tags": []
          },
          "execution_count": 35
        }
      ]
    },
    {
      "cell_type": "markdown",
      "metadata": {
        "id": "pWKF8XTwpMcD"
      },
      "source": [
        "$\\rightarrow$ Ta bỏ thuộc tính Other Provider License Number vì độ khuyết dữ liệu quá lớn. Ta cũng loại bỏ một số thuộc tính có yếu tố \"Descripion\" và một số thuộc tính khác."
      ]
    },
    {
      "cell_type": "code",
      "metadata": {
        "id": "7260eIaNtiPE"
      },
      "source": [
        "del_columns = [\"Other Provider License Number\", \"CCS Diagnosis Description\", \"CCS Procedure Description\", \"APR DRG Description\", \"APR MDC Description\",\n",
        "\"Facility Name\", \"APR Risk of Mortality\", \"Attending Provider License Number\", \"Zip Code - 3 digits\", \"Operating Provider License Number\", \"Health Service Area\", \"Race\", \n",
        "\"APR Severity of Illness Description\", \"Hospital County\", \"Ethnicity\"]\n",
        "columns = set(df.columns )- set(del_columns)\n",
        "# columns"
      ],
      "execution_count": 36,
      "outputs": []
    },
    {
      "cell_type": "markdown",
      "metadata": {
        "id": "fmPrACYrb1GM"
      },
      "source": [
        "**Các thuộc tính dùng để phân tích:** \\\\\n",
        "- Facility Id\n",
        "- Discharge Year\n",
        "- CCS Diagnosis Code\n",
        "- CCS Procedure Code\n",
        "- APR DRG Code\n",
        "- APR MDC Code\n",
        "- APR Severity of Illness Code\n",
        "- Birth Weight\n",
        "- Age Group\n",
        "- Gender\n",
        "- Length of Stay\n",
        "- Type of Admission\n",
        "- Patient Disposition\n",
        "- APR Medical Surgical Description\n",
        "- APR Severity of Illness Description\n",
        "- Payment Typology 1\n",
        "- Payment Typology 2\n",
        "- Payment Typology 3\n",
        "- Abortion Edit Indicator\n",
        "- Emergency Department Indicator\n",
        "- Total Charges\n",
        "- Total Costs"
      ]
    },
    {
      "cell_type": "code",
      "metadata": {
        "id": "X0zV5LGLNtRl"
      },
      "source": [
        "data = df[columns]"
      ],
      "execution_count": 37,
      "outputs": []
    },
    {
      "cell_type": "markdown",
      "metadata": {
        "id": "gr5FZ-gQ0ao9"
      },
      "source": [
        "# Xử lý dữ liệu"
      ]
    },
    {
      "cell_type": "markdown",
      "metadata": {
        "id": "p_oFEjMhN6DM"
      },
      "source": [
        "## Chuyển đổi kiểu dữ liệu phù hợp"
      ]
    },
    {
      "cell_type": "code",
      "metadata": {
        "id": "veTjuEuANqmi"
      },
      "source": [
        "def convert_to_numeric(Sr):\n",
        "    new_Sr = Sr.map(lambda x:x[1:])\n",
        "    new_Sr = pd.to_numeric(new_Sr)\n",
        "    return new_Sr\n",
        "\n",
        "data['Total Charges'] = convert_to_numeric(data['Total Charges'])\n",
        "data['Total Costs'] = convert_to_numeric(data['Total Costs'])"
      ],
      "execution_count": 38,
      "outputs": []
    },
    {
      "cell_type": "code",
      "metadata": {
        "colab": {
          "base_uri": "https://localhost:8080/"
        },
        "id": "rS78kzr7gYNy",
        "outputId": "cfafdc08-7b2e-415b-c43a-e69730a98b68"
      },
      "source": [
        "data.dtypes"
      ],
      "execution_count": 39,
      "outputs": [
        {
          "output_type": "execute_result",
          "data": {
            "text/plain": [
              "Payment Typology 3                   object\n",
              "Payment Typology 1                   object\n",
              "Payment Typology 2                   object\n",
              "Age Group                            object\n",
              "Operating Certificate Number        float64\n",
              "APR DRG Code                          int64\n",
              "CCS Diagnosis Code                    int64\n",
              "Patient Disposition                  object\n",
              "Abortion Edit Indicator              object\n",
              "Type of Admission                    object\n",
              "Facility Id                         float64\n",
              "Total Charges                       float64\n",
              "Emergency Department Indicator       object\n",
              "APR MDC Code                          int64\n",
              "Total Costs                         float64\n",
              "Discharge Year                        int64\n",
              "APR Medical Surgical Description     object\n",
              "Birth Weight                          int64\n",
              "CCS Procedure Code                    int64\n",
              "APR Severity of Illness Code          int64\n",
              "Gender                               object\n",
              "Length of Stay                       object\n",
              "dtype: object"
            ]
          },
          "metadata": {
            "tags": []
          },
          "execution_count": 39
        }
      ]
    },
    {
      "cell_type": "markdown",
      "metadata": {
        "id": "SJ2wHjGVOG2q"
      },
      "source": [
        "Kiểm tra lại thấy kiểu dữ liệu đã đúng."
      ]
    },
    {
      "cell_type": "markdown",
      "metadata": {
        "id": "l35a4S0LOTi5"
      },
      "source": [
        "## Tạo thuộc tính mới Payment"
      ]
    },
    {
      "cell_type": "code",
      "metadata": {
        "colab": {
          "base_uri": "https://localhost:8080/",
          "height": 399
        },
        "id": "coSO6LMIud6w",
        "outputId": "8e0cf106-c87a-4f1f-f279-ef067eed4b2f"
      },
      "source": [
        "payment = data[['Payment Typology 1','Payment Typology 2', 'Payment Typology 3']].replace(np.nan, '')\n",
        "payment"
      ],
      "execution_count": 40,
      "outputs": [
        {
          "output_type": "execute_result",
          "data": {
            "text/html": [
              "<div>\n",
              "<style scoped>\n",
              "    .dataframe tbody tr th:only-of-type {\n",
              "        vertical-align: middle;\n",
              "    }\n",
              "\n",
              "    .dataframe tbody tr th {\n",
              "        vertical-align: top;\n",
              "    }\n",
              "\n",
              "    .dataframe thead th {\n",
              "        text-align: right;\n",
              "    }\n",
              "</style>\n",
              "<table border=\"1\" class=\"dataframe\">\n",
              "  <thead>\n",
              "    <tr style=\"text-align: right;\">\n",
              "      <th></th>\n",
              "      <th>Payment Typology 1</th>\n",
              "      <th>Payment Typology 2</th>\n",
              "      <th>Payment Typology 3</th>\n",
              "    </tr>\n",
              "  </thead>\n",
              "  <tbody>\n",
              "    <tr>\n",
              "      <th>0</th>\n",
              "      <td>Medicaid</td>\n",
              "      <td></td>\n",
              "      <td></td>\n",
              "    </tr>\n",
              "    <tr>\n",
              "      <th>1</th>\n",
              "      <td>Medicaid</td>\n",
              "      <td></td>\n",
              "      <td></td>\n",
              "    </tr>\n",
              "    <tr>\n",
              "      <th>2</th>\n",
              "      <td>Medicaid</td>\n",
              "      <td></td>\n",
              "      <td></td>\n",
              "    </tr>\n",
              "    <tr>\n",
              "      <th>3</th>\n",
              "      <td>Medicare</td>\n",
              "      <td></td>\n",
              "      <td></td>\n",
              "    </tr>\n",
              "    <tr>\n",
              "      <th>4</th>\n",
              "      <td>Medicaid</td>\n",
              "      <td></td>\n",
              "      <td></td>\n",
              "    </tr>\n",
              "    <tr>\n",
              "      <th>...</th>\n",
              "      <td>...</td>\n",
              "      <td>...</td>\n",
              "      <td>...</td>\n",
              "    </tr>\n",
              "    <tr>\n",
              "      <th>2346755</th>\n",
              "      <td>Medicare</td>\n",
              "      <td>Medicare</td>\n",
              "      <td>Private Health Insurance</td>\n",
              "    </tr>\n",
              "    <tr>\n",
              "      <th>2346756</th>\n",
              "      <td>Private Health Insurance</td>\n",
              "      <td></td>\n",
              "      <td></td>\n",
              "    </tr>\n",
              "    <tr>\n",
              "      <th>2346757</th>\n",
              "      <td>Medicaid</td>\n",
              "      <td></td>\n",
              "      <td></td>\n",
              "    </tr>\n",
              "    <tr>\n",
              "      <th>2346758</th>\n",
              "      <td>Medicare</td>\n",
              "      <td>Medicare</td>\n",
              "      <td>Blue Cross/Blue Shield</td>\n",
              "    </tr>\n",
              "    <tr>\n",
              "      <th>2346759</th>\n",
              "      <td>Self-Pay</td>\n",
              "      <td></td>\n",
              "      <td></td>\n",
              "    </tr>\n",
              "  </tbody>\n",
              "</table>\n",
              "<p>2346760 rows × 3 columns</p>\n",
              "</div>"
            ],
            "text/plain": [
              "               Payment Typology 1 Payment Typology 2        Payment Typology 3\n",
              "0                        Medicaid                                             \n",
              "1                        Medicaid                                             \n",
              "2                        Medicaid                                             \n",
              "3                        Medicare                                             \n",
              "4                        Medicaid                                             \n",
              "...                           ...                ...                       ...\n",
              "2346755                  Medicare           Medicare  Private Health Insurance\n",
              "2346756  Private Health Insurance                                             \n",
              "2346757                  Medicaid                                             \n",
              "2346758                  Medicare           Medicare    Blue Cross/Blue Shield\n",
              "2346759                  Self-Pay                                             \n",
              "\n",
              "[2346760 rows x 3 columns]"
            ]
          },
          "metadata": {
            "tags": []
          },
          "execution_count": 40
        }
      ]
    },
    {
      "cell_type": "code",
      "metadata": {
        "id": "_LD_rrtW1Bzn"
      },
      "source": [
        "# a = payment['Payment Typology 1'].str.cat(payment['Payment Typology 2'], sep=',').str.cat(payment['Payment Typology 3'], sep=',')\n",
        "# payment[['Payment Typology 1', 'Payment Typology 2', 'Payment Typology 3']].apply(lambda x: ','.join(x), axis=1)\n",
        "def remove_char(s):\n",
        "    s = s.replace(',,', ',')\n",
        "    if s[-1] == ',':\n",
        "        s = s[:-1]\n",
        "    return s\n",
        "\n",
        "data[\"Payment\"] = payment.apply(lambda x: ','.join(x),axis=1)\n",
        "data[\"Payment\"] = pd.Series(remove_char(s) for s in data[\"Payment\"])\n",
        "data.drop(columns = ['Payment Typology 1', 'Payment Typology 2', 'Payment Typology 3'], inplace=True)"
      ],
      "execution_count": 41,
      "outputs": []
    },
    {
      "cell_type": "code",
      "metadata": {
        "id": "pxieGGL9P0K7"
      },
      "source": [
        "columns = data.columns"
      ],
      "execution_count": 42,
      "outputs": []
    },
    {
      "cell_type": "markdown",
      "metadata": {
        "id": "nF7nFSiMOank"
      },
      "source": [
        "## Dữ liệu khuyết"
      ]
    },
    {
      "cell_type": "code",
      "metadata": {
        "id": "ki6Ep3S50Pt1",
        "colab": {
          "base_uri": "https://localhost:8080/"
        },
        "outputId": "6121a0b2-0c43-4f62-d892-5835cb8ba346"
      },
      "source": [
        "cate_missing_col = list(set(cate_profile.T[cate_profile.T['missing_ratio']>0].index)-set(del_columns)-set(payment.columns))\n",
        "cate_missing_col"
      ],
      "execution_count": 43,
      "outputs": [
        {
          "output_type": "execute_result",
          "data": {
            "text/plain": [
              "[]"
            ]
          },
          "metadata": {
            "tags": []
          },
          "execution_count": 43
        }
      ]
    },
    {
      "cell_type": "code",
      "metadata": {
        "colab": {
          "base_uri": "https://localhost:8080/"
        },
        "id": "gCRTlsJHlyYE",
        "outputId": "298f221c-e114-4ca3-bb3c-035c9caefc77"
      },
      "source": [
        "nume_missing_col = list(set(nume_profile.T[nume_profile.T['missing_ratio']>0].index) - set(del_columns))\n",
        "nume_missing_col"
      ],
      "execution_count": 44,
      "outputs": [
        {
          "output_type": "execute_result",
          "data": {
            "text/plain": [
              "['Facility Id', 'Operating Certificate Number']"
            ]
          },
          "metadata": {
            "tags": []
          },
          "execution_count": 44
        }
      ]
    },
    {
      "cell_type": "code",
      "metadata": {
        "id": "dtuR22D1KcM0"
      },
      "source": [
        "data[nume_missing_col] = data[nume_missing_col].fillna(data[nume_missing_col].mean())"
      ],
      "execution_count": 45,
      "outputs": []
    },
    {
      "cell_type": "code",
      "metadata": {
        "colab": {
          "base_uri": "https://localhost:8080/"
        },
        "id": "3Smg72UjM-uH",
        "outputId": "524ed923-6291-4df4-ae10-3f7bd335b37b"
      },
      "source": [
        "data.isna().sum()"
      ],
      "execution_count": 46,
      "outputs": [
        {
          "output_type": "execute_result",
          "data": {
            "text/plain": [
              "Age Group                           0\n",
              "Operating Certificate Number        0\n",
              "APR DRG Code                        0\n",
              "CCS Diagnosis Code                  0\n",
              "Patient Disposition                 0\n",
              "Abortion Edit Indicator             0\n",
              "Type of Admission                   0\n",
              "Facility Id                         0\n",
              "Total Charges                       0\n",
              "Emergency Department Indicator      0\n",
              "APR MDC Code                        0\n",
              "Total Costs                         0\n",
              "Discharge Year                      0\n",
              "APR Medical Surgical Description    0\n",
              "Birth Weight                        0\n",
              "CCS Procedure Code                  0\n",
              "APR Severity of Illness Code        0\n",
              "Gender                              0\n",
              "Length of Stay                      0\n",
              "Payment                             0\n",
              "dtype: int64"
            ]
          },
          "metadata": {
            "tags": []
          },
          "execution_count": 46
        }
      ]
    },
    {
      "cell_type": "markdown",
      "metadata": {
        "id": "Zl2X0IAeOjpM"
      },
      "source": [
        "$\\rightarrow$ Dữ liệu không còn chứa các thuộc tính bị khuyết."
      ]
    },
    {
      "cell_type": "markdown",
      "metadata": {
        "id": "wMx2l2EE8774"
      },
      "source": [
        "# Đặt câu hỏi cần trả lời\n"
      ]
    },
    {
      "cell_type": "markdown",
      "metadata": {
        "id": "JQ-8P8omQaWj"
      },
      "source": [
        "<!-- - Phần lớn những bệnh nằm viện dài ngày thường thuộc nhóm bệnh nào và mức độ - nghiêm trọng của bệnh lý mắc phải như thế nào?\n",
        "- Những bệnh nhân trải qua đại phẫu thường điều trị nội trú bao lâu và được hỗ trợ chi phí như thế nào?\n",
        "- Thời gian nhập viện trung bình. Điều này ảnh hưởng tới việc phân bố bệnh nhân thế nào? \n",
        "- Những bệnh nhân nằm viện dài ngày thường mắc phải các nhóm bệnh nào? Nguy cơ tử vong? lắm mồm --> "
      ]
    },
    {
      "cell_type": "markdown",
      "metadata": {
        "id": "gaxdDw58Q7sn"
      },
      "source": [
        ""
      ]
    }
  ]
}